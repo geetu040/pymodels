{
  "cells": [
    {
      "cell_type": "markdown",
      "metadata": {
        "id": "UjIFqUR0KGEA"
      },
      "source": [
        "# **Downloading Data**\n",
        "https://www.kaggle.com/datasets/quora/question-pairs-dataset"
      ]
    },
    {
      "cell_type": "code",
      "execution_count": null,
      "metadata": {
        "id": "wxf1o8yGD7kG",
        "colab": {
          "base_uri": "https://localhost:8080/"
        },
        "outputId": "1ab7e043-f0e8-46c7-d516-b54e5feaff03"
      },
      "outputs": [
        {
          "output_type": "stream",
          "name": "stdout",
          "text": [
            "Drive already mounted at /content/drive; to attempt to forcibly remount, call drive.mount(\"/content/drive\", force_remount=True).\n"
          ]
        }
      ],
      "source": [
        "from google.colab import drive\n",
        "drive.mount('/content/drive')"
      ]
    },
    {
      "cell_type": "code",
      "execution_count": null,
      "metadata": {
        "id": "NfzzgHTvaMDr",
        "colab": {
          "base_uri": "https://localhost:8080/"
        },
        "outputId": "db285e0b-41b8-4cbf-aaa5-552c9fd19d3d"
      },
      "outputs": [
        {
          "output_type": "stream",
          "name": "stdout",
          "text": [
            "mkdir: cannot create directory ‘/root/.kaggle’: File exists\n",
            "question-pairs-dataset.zip: Skipping, found more recently modified local copy (use --force to force download)\n",
            "Archive:  question-pairs-dataset.zip\n",
            "replace data/questions.csv? [y]es, [n]o, [A]ll, [N]one, [r]ename: n\n"
          ]
        }
      ],
      "source": [
        "! mkdir ~/.kaggle\n",
        "! cp \"/content/drive/MyDrive/Colab Notebooks/docs/kaggle.json\" ~/.kaggle/\n",
        "! chmod 600 ~/.kaggle/kaggle.json\n",
        "! kaggle datasets download -d quora/question-pairs-dataset\n",
        "! unzip question-pairs-dataset.zip -d data/"
      ]
    },
    {
      "cell_type": "markdown",
      "metadata": {
        "id": "p7Jv-tuRCVHV"
      },
      "source": [
        "# **Initializing**"
      ]
    },
    {
      "cell_type": "code",
      "execution_count": null,
      "metadata": {
        "id": "mLUgmeD2L7h4"
      },
      "outputs": [],
      "source": [
        "PATH = \"/content/data/questions.csv\"\n",
        "DUMP_PATH = \"/content/drive/MyDrive/Colab Notebooks/dumps/quora_question_pairs/\""
      ]
    },
    {
      "cell_type": "code",
      "execution_count": null,
      "metadata": {
        "id": "KlTAxcn30Ikq"
      },
      "outputs": [],
      "source": [
        "SAMPLE_SIZE = None\n",
        "MIN_LEN_ALLOWED = 3\n",
        "ALLOW_STOPWORDS = False"
      ]
    },
    {
      "cell_type": "code",
      "execution_count": null,
      "metadata": {
        "id": "9kz4O1Lz6sQQ",
        "colab": {
          "base_uri": "https://localhost:8080/"
        },
        "outputId": "0e45b618-6fa6-4661-98db-d0ac3a3138bb"
      },
      "outputs": [
        {
          "output_type": "stream",
          "name": "stdout",
          "text": [
            "Looking in indexes: https://pypi.org/simple, https://us-python.pkg.dev/colab-wheels/public/simple/\n",
            "Collecting distance\n",
            "  Downloading Distance-0.1.3.tar.gz (180 kB)\n",
            "\u001b[?25l     \u001b[90m━━━━━━━━━━━━━━━━━━━━━━━━━━━━━━━━━━━━━━━━\u001b[0m \u001b[32m0.0/180.3 KB\u001b[0m \u001b[31m?\u001b[0m eta \u001b[36m-:--:--\u001b[0m\r\u001b[2K     \u001b[90m━━━━━━━━━━━━━━━━━━━━━━━━━━━━━━━━━━━━━━\u001b[0m \u001b[32m180.3/180.3 KB\u001b[0m \u001b[31m11.0 MB/s\u001b[0m eta \u001b[36m0:00:00\u001b[0m\n",
            "\u001b[?25h  Preparing metadata (setup.py) ... \u001b[?25l\u001b[?25hdone\n",
            "Building wheels for collected packages: distance\n",
            "  Building wheel for distance (setup.py) ... \u001b[?25l\u001b[?25hdone\n",
            "  Created wheel for distance: filename=Distance-0.1.3-py3-none-any.whl size=16275 sha256=7b86185969c268e3e5654a4d947a0117d8a541921bf8a925dc158f3c4d8e7352\n",
            "  Stored in directory: /root/.cache/pip/wheels/fb/a8/64/6edcab63ec51512a87cacf9b3563c711ad6b7b05d61b704493\n",
            "Successfully built distance\n",
            "Installing collected packages: distance\n",
            "Successfully installed distance-0.1.3\n",
            "Looking in indexes: https://pypi.org/simple, https://us-python.pkg.dev/colab-wheels/public/simple/\n",
            "Collecting fuzzywuzzy\n",
            "  Downloading fuzzywuzzy-0.18.0-py2.py3-none-any.whl (18 kB)\n",
            "Installing collected packages: fuzzywuzzy\n",
            "Successfully installed fuzzywuzzy-0.18.0\n"
          ]
        }
      ],
      "source": [
        "! pip install distance\n",
        "! pip install fuzzywuzzy"
      ]
    },
    {
      "cell_type": "code",
      "execution_count": null,
      "metadata": {
        "id": "gh1SCwJnOssn",
        "colab": {
          "base_uri": "https://localhost:8080/"
        },
        "outputId": "609cc187-e14b-492a-8d86-6655fb3e45e3"
      },
      "outputs": [
        {
          "output_type": "stream",
          "name": "stderr",
          "text": [
            "/usr/local/lib/python3.8/dist-packages/fuzzywuzzy/fuzz.py:11: UserWarning: Using slow pure-python SequenceMatcher. Install python-Levenshtein to remove this warning\n",
            "  warnings.warn('Using slow pure-python SequenceMatcher. Install python-Levenshtein to remove this warning')\n"
          ]
        }
      ],
      "source": [
        "import os\n",
        "import numpy as np\n",
        "import pandas as pd\n",
        "import seaborn as sns\n",
        "import matplotlib.pyplot as plt\n",
        "import re\n",
        "from bs4 import BeautifulSoup\n",
        "import distance\n",
        "from fuzzywuzzy import fuzz\n",
        "from tqdm import tqdm"
      ]
    },
    {
      "cell_type": "code",
      "execution_count": null,
      "metadata": {
        "id": "3G5ODxiqDEtX",
        "colab": {
          "base_uri": "https://localhost:8080/",
          "height": 242
        },
        "outputId": "44b21870-cf2d-49d7-b93d-805ffbc6fee4"
      },
      "outputs": [
        {
          "output_type": "stream",
          "name": "stdout",
          "text": [
            "SAMPLE_SIZE 298550\n",
            "(298550, 6)\n"
          ]
        },
        {
          "output_type": "execute_result",
          "data": {
            "text/plain": [
              "            id    qid1    qid2  \\\n",
              "155442  155442  307417  307418   \n",
              "307239  307239  603193  181078   \n",
              "106019  106019  210282  210283   \n",
              "91019    91019  180715  180716   \n",
              "293949  293949  577455  577456   \n",
              "\n",
              "                                                question1  \\\n",
              "155442  Which is better Bharti Vidyapeeth college of e...   \n",
              "307239         Which are the best stocks to buy in India?   \n",
              "106019                   Who was the best among Pandavas?   \n",
              "91019   What can I present in the computer exhibition ...   \n",
              "293949                              How do I cure asthma?   \n",
              "\n",
              "                                                question2  is_duplicate  \n",
              "155442             What is your review of SRM University?             0  \n",
              "307239  What are the best stocks to buy in the Indian ...             1  \n",
              "106019                          Who was the best Pandava?             1  \n",
              "91019   What is the future for visual presentation and...             0  \n",
              "293949                            How do we treat asthma?             1  "
            ],
            "text/html": [
              "\n",
              "  <div id=\"df-4c85f58a-9f37-4281-93f9-c0300b3c6478\">\n",
              "    <div class=\"colab-df-container\">\n",
              "      <div>\n",
              "<style scoped>\n",
              "    .dataframe tbody tr th:only-of-type {\n",
              "        vertical-align: middle;\n",
              "    }\n",
              "\n",
              "    .dataframe tbody tr th {\n",
              "        vertical-align: top;\n",
              "    }\n",
              "\n",
              "    .dataframe thead th {\n",
              "        text-align: right;\n",
              "    }\n",
              "</style>\n",
              "<table border=\"1\" class=\"dataframe\">\n",
              "  <thead>\n",
              "    <tr style=\"text-align: right;\">\n",
              "      <th></th>\n",
              "      <th>id</th>\n",
              "      <th>qid1</th>\n",
              "      <th>qid2</th>\n",
              "      <th>question1</th>\n",
              "      <th>question2</th>\n",
              "      <th>is_duplicate</th>\n",
              "    </tr>\n",
              "  </thead>\n",
              "  <tbody>\n",
              "    <tr>\n",
              "      <th>155442</th>\n",
              "      <td>155442</td>\n",
              "      <td>307417</td>\n",
              "      <td>307418</td>\n",
              "      <td>Which is better Bharti Vidyapeeth college of e...</td>\n",
              "      <td>What is your review of SRM University?</td>\n",
              "      <td>0</td>\n",
              "    </tr>\n",
              "    <tr>\n",
              "      <th>307239</th>\n",
              "      <td>307239</td>\n",
              "      <td>603193</td>\n",
              "      <td>181078</td>\n",
              "      <td>Which are the best stocks to buy in India?</td>\n",
              "      <td>What are the best stocks to buy in the Indian ...</td>\n",
              "      <td>1</td>\n",
              "    </tr>\n",
              "    <tr>\n",
              "      <th>106019</th>\n",
              "      <td>106019</td>\n",
              "      <td>210282</td>\n",
              "      <td>210283</td>\n",
              "      <td>Who was the best among Pandavas?</td>\n",
              "      <td>Who was the best Pandava?</td>\n",
              "      <td>1</td>\n",
              "    </tr>\n",
              "    <tr>\n",
              "      <th>91019</th>\n",
              "      <td>91019</td>\n",
              "      <td>180715</td>\n",
              "      <td>180716</td>\n",
              "      <td>What can I present in the computer exhibition ...</td>\n",
              "      <td>What is the future for visual presentation and...</td>\n",
              "      <td>0</td>\n",
              "    </tr>\n",
              "    <tr>\n",
              "      <th>293949</th>\n",
              "      <td>293949</td>\n",
              "      <td>577455</td>\n",
              "      <td>577456</td>\n",
              "      <td>How do I cure asthma?</td>\n",
              "      <td>How do we treat asthma?</td>\n",
              "      <td>1</td>\n",
              "    </tr>\n",
              "  </tbody>\n",
              "</table>\n",
              "</div>\n",
              "      <button class=\"colab-df-convert\" onclick=\"convertToInteractive('df-4c85f58a-9f37-4281-93f9-c0300b3c6478')\"\n",
              "              title=\"Convert this dataframe to an interactive table.\"\n",
              "              style=\"display:none;\">\n",
              "        \n",
              "  <svg xmlns=\"http://www.w3.org/2000/svg\" height=\"24px\"viewBox=\"0 0 24 24\"\n",
              "       width=\"24px\">\n",
              "    <path d=\"M0 0h24v24H0V0z\" fill=\"none\"/>\n",
              "    <path d=\"M18.56 5.44l.94 2.06.94-2.06 2.06-.94-2.06-.94-.94-2.06-.94 2.06-2.06.94zm-11 1L8.5 8.5l.94-2.06 2.06-.94-2.06-.94L8.5 2.5l-.94 2.06-2.06.94zm10 10l.94 2.06.94-2.06 2.06-.94-2.06-.94-.94-2.06-.94 2.06-2.06.94z\"/><path d=\"M17.41 7.96l-1.37-1.37c-.4-.4-.92-.59-1.43-.59-.52 0-1.04.2-1.43.59L10.3 9.45l-7.72 7.72c-.78.78-.78 2.05 0 2.83L4 21.41c.39.39.9.59 1.41.59.51 0 1.02-.2 1.41-.59l7.78-7.78 2.81-2.81c.8-.78.8-2.07 0-2.86zM5.41 20L4 18.59l7.72-7.72 1.47 1.35L5.41 20z\"/>\n",
              "  </svg>\n",
              "      </button>\n",
              "      \n",
              "  <style>\n",
              "    .colab-df-container {\n",
              "      display:flex;\n",
              "      flex-wrap:wrap;\n",
              "      gap: 12px;\n",
              "    }\n",
              "\n",
              "    .colab-df-convert {\n",
              "      background-color: #E8F0FE;\n",
              "      border: none;\n",
              "      border-radius: 50%;\n",
              "      cursor: pointer;\n",
              "      display: none;\n",
              "      fill: #1967D2;\n",
              "      height: 32px;\n",
              "      padding: 0 0 0 0;\n",
              "      width: 32px;\n",
              "    }\n",
              "\n",
              "    .colab-df-convert:hover {\n",
              "      background-color: #E2EBFA;\n",
              "      box-shadow: 0px 1px 2px rgba(60, 64, 67, 0.3), 0px 1px 3px 1px rgba(60, 64, 67, 0.15);\n",
              "      fill: #174EA6;\n",
              "    }\n",
              "\n",
              "    [theme=dark] .colab-df-convert {\n",
              "      background-color: #3B4455;\n",
              "      fill: #D2E3FC;\n",
              "    }\n",
              "\n",
              "    [theme=dark] .colab-df-convert:hover {\n",
              "      background-color: #434B5C;\n",
              "      box-shadow: 0px 1px 3px 1px rgba(0, 0, 0, 0.15);\n",
              "      filter: drop-shadow(0px 1px 2px rgba(0, 0, 0, 0.3));\n",
              "      fill: #FFFFFF;\n",
              "    }\n",
              "  </style>\n",
              "\n",
              "      <script>\n",
              "        const buttonEl =\n",
              "          document.querySelector('#df-4c85f58a-9f37-4281-93f9-c0300b3c6478 button.colab-df-convert');\n",
              "        buttonEl.style.display =\n",
              "          google.colab.kernel.accessAllowed ? 'block' : 'none';\n",
              "\n",
              "        async function convertToInteractive(key) {\n",
              "          const element = document.querySelector('#df-4c85f58a-9f37-4281-93f9-c0300b3c6478');\n",
              "          const dataTable =\n",
              "            await google.colab.kernel.invokeFunction('convertToInteractive',\n",
              "                                                     [key], {});\n",
              "          if (!dataTable) return;\n",
              "\n",
              "          const docLinkHtml = 'Like what you see? Visit the ' +\n",
              "            '<a target=\"_blank\" href=https://colab.research.google.com/notebooks/data_table.ipynb>data table notebook</a>'\n",
              "            + ' to learn more about interactive tables.';\n",
              "          element.innerHTML = '';\n",
              "          dataTable['output_type'] = 'display_data';\n",
              "          await google.colab.output.renderOutput(dataTable, element);\n",
              "          const docLink = document.createElement('div');\n",
              "          docLink.innerHTML = docLinkHtml;\n",
              "          element.appendChild(docLink);\n",
              "        }\n",
              "      </script>\n",
              "    </div>\n",
              "  </div>\n",
              "  "
            ]
          },
          "metadata": {},
          "execution_count": 6
        }
      ],
      "source": [
        "df = pd.read_csv(PATH)\n",
        "orig_df = pd.read_csv(PATH)\n",
        "\n",
        "# Removing Short Question Rows\n",
        "short_question_rows = [i for i in range(len(df)) if len(str(df['question1'].iloc[i]).split()) < MIN_LEN_ALLOWED or len(str(df['question2'].iloc[i]).split()) < MIN_LEN_ALLOWED]\n",
        "df = df.drop(df.index[short_question_rows])\n",
        "\n",
        "# Removing Duplicates\n",
        "df.drop_duplicates(inplace=True)\n",
        "\n",
        "# Shuffling the Dataset\n",
        "df = df.sample(df.shape[0], random_state=42)\n",
        "\n",
        "# Picking a sample\n",
        "if SAMPLE_SIZE == None:\n",
        "    SAMPLE_SIZE = min(df.is_duplicate.value_counts().values) * 2\n",
        "df = pd.concat([\n",
        "    df[df.is_duplicate == 0].iloc[:SAMPLE_SIZE//2],\n",
        "    df[df.is_duplicate == 1].iloc[:SAMPLE_SIZE//2]\n",
        "])\n",
        "\n",
        "# Shuffling the Dataset Again\n",
        "df = df.sample(df.shape[0],random_state=2)\n",
        "\n",
        "print(\"SAMPLE_SIZE\", SAMPLE_SIZE)\n",
        "print(df.shape)\n",
        "df.sample(5)"
      ]
    },
    {
      "cell_type": "markdown",
      "metadata": {
        "id": "7m6MhvGa1yq4"
      },
      "source": [
        "# **Exploratory Data Analysis**"
      ]
    },
    {
      "cell_type": "code",
      "execution_count": null,
      "metadata": {
        "id": "GaZ3UCtsbort",
        "colab": {
          "base_uri": "https://localhost:8080/"
        },
        "outputId": "1fa71e39-ba59-4943-e317-8a1d41e2b024"
      },
      "outputs": [
        {
          "output_type": "stream",
          "name": "stdout",
          "text": [
            "<class 'pandas.core.frame.DataFrame'>\n",
            "Int64Index: 298550 entries, 81424 to 42173\n",
            "Data columns (total 6 columns):\n",
            " #   Column        Non-Null Count   Dtype \n",
            "---  ------        --------------   ----- \n",
            " 0   id            298550 non-null  int64 \n",
            " 1   qid1          298550 non-null  int64 \n",
            " 2   qid2          298550 non-null  int64 \n",
            " 3   question1     298550 non-null  object\n",
            " 4   question2     298550 non-null  object\n",
            " 5   is_duplicate  298550 non-null  int64 \n",
            "dtypes: int64(4), object(2)\n",
            "memory usage: 15.9+ MB\n"
          ]
        }
      ],
      "source": [
        "df.info()"
      ]
    },
    {
      "cell_type": "code",
      "execution_count": null,
      "metadata": {
        "id": "Gj4aEVgHbqxE",
        "colab": {
          "base_uri": "https://localhost:8080/"
        },
        "outputId": "e47990fd-05be-4bd0-e795-10992038fffc"
      },
      "outputs": [
        {
          "output_type": "execute_result",
          "data": {
            "text/plain": [
              "id              0\n",
              "qid1            0\n",
              "qid2            0\n",
              "question1       0\n",
              "question2       0\n",
              "is_duplicate    0\n",
              "dtype: int64"
            ]
          },
          "metadata": {},
          "execution_count": 11
        }
      ],
      "source": [
        "# missing values\n",
        "df.isnull().sum()"
      ]
    },
    {
      "cell_type": "code",
      "execution_count": null,
      "metadata": {
        "id": "O9vRYu6lbs7M",
        "colab": {
          "base_uri": "https://localhost:8080/"
        },
        "outputId": "590d37df-a093-4af3-932b-99248d3360e8"
      },
      "outputs": [
        {
          "output_type": "execute_result",
          "data": {
            "text/plain": [
              "0"
            ]
          },
          "metadata": {},
          "execution_count": 12
        }
      ],
      "source": [
        "# duplicate rows\n",
        "df.duplicated().sum()"
      ]
    },
    {
      "cell_type": "code",
      "execution_count": null,
      "metadata": {
        "id": "kAjiFwaZbuCs",
        "colab": {
          "base_uri": "https://localhost:8080/"
        },
        "outputId": "0885bd9a-1815-4c2a-9b45-6a1904e7a59f"
      },
      "outputs": [
        {
          "output_type": "stream",
          "name": "stdout",
          "text": [
            "1    149275\n",
            "0    149275\n",
            "Name: is_duplicate, dtype: int64\n",
            "1    50.0\n",
            "0    50.0\n",
            "Name: is_duplicate, dtype: float64\n"
          ]
        },
        {
          "output_type": "execute_result",
          "data": {
            "text/plain": [
              "<AxesSubplot:>"
            ]
          },
          "metadata": {},
          "execution_count": 13
        },
        {
          "output_type": "display_data",
          "data": {
            "text/plain": [
              "<Figure size 432x288 with 1 Axes>"
            ],
            "image/png": "[encoded data removed]"
          },
          "metadata": {
            "needs_background": "light"
          }
        }
      ],
      "source": [
        "# Distribution of duplicate and non-duplicate questions\n",
        "\n",
        "print(df['is_duplicate'].value_counts())\n",
        "print((df['is_duplicate'].value_counts()/df['is_duplicate'].count())*100)\n",
        "df['is_duplicate'].value_counts().plot(kind='bar')"
      ]
    },
    {
      "cell_type": "code",
      "execution_count": null,
      "metadata": {
        "id": "Qu7TEfIfbzm8",
        "colab": {
          "base_uri": "https://localhost:8080/"
        },
        "outputId": "ef349dee-2c88-4e96-9b42-778f571dc9ed"
      },
      "outputs": [
        {
          "output_type": "stream",
          "name": "stdout",
          "text": [
            "Number of unique questions 586798\n",
            "Number of questions getting repeated 7519\n"
          ]
        }
      ],
      "source": [
        "# Repeated questions\n",
        "\n",
        "qid = pd.Series(df['qid1'].tolist() + df['qid2'].tolist())\n",
        "print('Number of unique questions',np.unique(qid).shape[0])\n",
        "x = qid.value_counts()>1\n",
        "print('Number of questions getting repeated',x[x].shape[0])"
      ]
    },
    {
      "cell_type": "code",
      "execution_count": null,
      "metadata": {
        "id": "kM3VL62qb648",
        "colab": {
          "base_uri": "https://localhost:8080/"
        },
        "outputId": "b1a387c7-da4f-4039-d7cc-8d3b1b036f7d"
      },
      "outputs": [
        {
          "output_type": "display_data",
          "data": {
            "text/plain": [
              "<Figure size 432x288 with 1 Axes>"
            ],
            "image/png": "[encoded data removed]"
          },
          "metadata": {
            "needs_background": "light"
          }
        }
      ],
      "source": [
        "# Repeated questions histogram\n",
        "\n",
        "plt.hist(qid.value_counts().values,bins=50)\n",
        "plt.yscale('log')\n",
        "plt.show()"
      ]
    },
    {
      "cell_type": "markdown",
      "metadata": {
        "id": "zt9PbslazUPR"
      },
      "source": [
        "# **Preprocessing**"
      ]
    },
    {
      "cell_type": "markdown",
      "metadata": {
        "id": "5TrQjYkpzsyl"
      },
      "source": [
        "## Cleaning"
      ]
    },
    {
      "cell_type": "code",
      "execution_count": null,
      "metadata": {
        "id": "06T8z6ZCz6il",
        "colab": {
          "base_uri": "https://localhost:8080/"
        },
        "outputId": "46dc65b0-6f93-4fb5-ff67-e44abbeca96d"
      },
      "outputs": [
        {
          "output_type": "stream",
          "name": "stderr",
          "text": [
            "[nltk_data] Downloading package wordnet to /root/nltk_data...\n",
            "[nltk_data]   Package wordnet is already up-to-date!\n",
            "[nltk_data] Downloading package omw-1.4 to /root/nltk_data...\n",
            "[nltk_data]   Package omw-1.4 is already up-to-date!\n",
            "[nltk_data] Downloading package stopwords to /root/nltk_data...\n",
            "[nltk_data]   Package stopwords is already up-to-date!\n"
          ]
        }
      ],
      "source": [
        "import nltk\n",
        "\n",
        "nltk.download('wordnet')\n",
        "nltk.download('omw-1.4')\n",
        "nltk.download('stopwords')\n",
        "\n",
        "abbv = {\n",
        "    \"AFAIK\":\"as far as I know\", \"IMO\":\t\"in my opinion\", \"IMHO\":\t\"in my humble opinion\", \"LGTM\":\t\"look good to me\", \"AKA\":\t\"also know as\", \"ASAP\":\t\"as sone as possible\", \"BTW\":\t\"by the way\", \"FAQ\":\t\"frequently asked questions\", \"DIY\":\t\"do it yourself\", \"DM\":\t\"direct message\", \"FYI\":\t\"for your information\", \"IC\":\t\"i see\", \"IOW\":\t\"in other words\", \"IIRC\":\t\"If I Remember Correctly\", \"icymi\":\"In case you missed it\", \"CUZ\":\t\"because\", \"COS\":\t\"because\", \"nv\":\t\"nevermind\", \"PLZ\":\t\"please\",\n",
        "}\n",
        "\n",
        "# https://en.wikipedia.org/wiki/Wikipedia%3aList_of_English_contractions\n",
        "# https://stackoverflow.com/a/19794953\n",
        "contractions = { \n",
        "    \"ain't\": \"am not\", \"aren't\": \"are not\", \"can't\": \"can not\", \"can't've\": \"can not have\", \"'cause\": \"because\", \"could've\": \"could have\", \"couldn't\": \"could not\", \"couldn't've\": \"could not have\", \"didn't\": \"did not\", \"doesn't\": \"does not\", \"don't\": \"do not\", \"hadn't\": \"had not\", \"hadn't've\": \"had not have\", \"hasn't\": \"has not\", \"haven't\": \"have not\", \"he'd\": \"he would\", \"he'd've\": \"he would have\", \"he'll\": \"he will\", \"he'll've\": \"he will have\", \"he's\": \"he is\", \"how'd\": \"how did\", \"how'd'y\": \"how do you\", \"how'll\": \"how will\", \"how's\": \"how is\", \"i'd\": \"i would\", \"i'd've\": \"i would have\", \"i'll\": \"i will\", \"i'll've\": \"i will have\", \"i'm\": \"i am\", \"i've\": \"i have\", \"isn't\": \"is not\", \"it'd\": \"it would\", \"it'd've\": \"it would have\", \"it'll\": \"it will\", \"it'll've\": \"it will have\", \"it's\": \"it is\", \"let's\": \"let us\", \"ma'am\": \"madam\", \"mayn't\": \"may not\", \"might've\": \"might have\", \"mightn't\": \"might not\", \"mightn't've\": \"might not have\", \"must've\": \"must have\", \"mustn't\": \"must not\", \"mustn't've\": \"must not have\", \"needn't\": \"need not\", \"needn't've\": \"need not have\", \"o'clock\": \"of the clock\", \"oughtn't\": \"ought not\", \"oughtn't've\": \"ought not have\", \"shan't\": \"shall not\", \"sha'n't\": \"shall not\", \"shan't've\": \"shall not have\", \"she'd\": \"she would\", \"she'd've\": \"she would have\", \"she'll\": \"she will\", \"she'll've\": \"she will have\", \"she's\": \"she is\", \"should've\": \"should have\", \"shouldn't\": \"should not\", \"shouldn't've\": \"should not have\", \"so've\": \"so have\", \"so's\": \"so as\", \"that'd\": \"that would\", \"that'd've\": \"that would have\", \"that's\": \"that is\", \"there'd\": \"there would\", \"there'd've\": \"there would have\", \"there's\": \"there is\", \"they'd\": \"they would\", \"they'd've\": \"they would have\", \"they'll\": \"they will\", \"they'll've\": \"they will have\", \"they're\": \"they are\", \"they've\": \"they have\", \"to've\": \"to have\", \"wasn't\": \"was not\", \"we'd\": \"we would\", \"we'd've\": \"we would have\", \"we'll\": \"we will\", \"we'll've\": \"we will have\", \"we're\": \"we are\", \"we've\": \"we have\", \"weren't\": \"were not\", \"what'll\": \"what will\", \"what'll've\": \"what will have\", \"what're\": \"what are\", \"what's\": \"what is\", \"what've\": \"what have\", \"when's\": \"when is\", \"when've\": \"when have\", \"where'd\": \"where did\", \"where's\": \"where is\", \"where've\": \"where have\", \"who'll\": \"who will\", \"who'll've\": \"who will have\", \"who's\": \"who is\", \"who've\": \"who have\", \"why's\": \"why is\", \"why've\": \"why have\", \"will've\": \"will have\", \"won't\": \"will not\", \"won't've\": \"will not have\", \"would've\": \"would have\", \"wouldn't\": \"would not\", \"wouldn't've\": \"would not have\", \"y'all\": \"you all\", \"y'all'd\": \"you all would\", \"y'all'd've\": \"you all would have\", \"y'all're\": \"you all are\", \"y'all've\": \"you all have\", \"you'd\": \"you would\", \"you'd've\": \"you would have\", \"you'll\": \"you will\", \"you'll've\": \"you will have\", \"you're\": \"you are\", \"you've\": \"you have\", \"'ve\": \" have\", \"n't\": \" not\", \"'re\": \" are\", \"'ll\": \" will\",\n",
        "}\n",
        "\n",
        "import re\n",
        "html_pattern = re.compile('<.*?>')\n",
        "urls_pattern = re.compile(r'https?://\\S+|www\\.\\S+')\n",
        "emoji_pattern = re.compile(\"[\"\n",
        "\tu\"\\U0001F600-\\U0001F64F\"  # emoticons\n",
        "\tu\"\\U0001F300-\\U0001F5FF\"  # symbols & pictographs\n",
        "\tu\"\\U0001F680-\\U0001F6FF\"  # transport & map symbols\n",
        "\tu\"\\U0001F1E0-\\U0001F1FF\"  # flags (iOS)\n",
        "\"]+\", flags=re.UNICODE)\n",
        "\n",
        "from nltk.stem.porter import PorterStemmer\n",
        "ps = PorterStemmer()\n",
        "\n",
        "from nltk.stem import WordNetLemmatizer\n",
        "lemmatizer = WordNetLemmatizer()\n",
        "\n",
        "import string\n",
        "punc = string.punctuation\n",
        "\n",
        "from nltk.corpus import stopwords\n",
        "stopwords = stopwords.words('english')\n",
        "\n",
        "def preprocess(q, allow_stopwords=True):\n",
        "    \n",
        "    q = str(q).lower().strip()\n",
        "\n",
        "    # HTML Tags\n",
        "    q = html_pattern.sub(r'', q)\n",
        "\n",
        "    # urls\n",
        "    q = urls_pattern.sub(r'', q)\n",
        "\n",
        "    # punctuations\n",
        "    q = q.translate(str.maketrans(\"\", \"\", punc))\n",
        "\n",
        "    # Emojis\n",
        "    q = emoji_pattern.sub(r'', q)\n",
        "    \n",
        "    # Replace certain special characters with their string equivalents\n",
        "    q = q.replace('%', ' percent')\n",
        "    q = q.replace('$', ' dollar ')\n",
        "    q = q.replace('₹', ' rupee ')\n",
        "    q = q.replace('€', ' euro ')\n",
        "    q = q.replace('@', ' at ')\n",
        "    \n",
        "    # The pattern '[math]' appears around 900 times in the whole dataset.\n",
        "    q = q.replace('[math]', '')\n",
        "    \n",
        "    # Replacing some numbers with string equivalents (not perfect, can be done better to account for more cases)\n",
        "    q = q.replace(',000,000,000 ', 'b ')\n",
        "    q = q.replace(',000,000 ', 'm ')\n",
        "    q = q.replace(',000 ', 'k ')\n",
        "    q = re.sub(r'([0-9]+)000000000', r'\\1b', q)\n",
        "    q = re.sub(r'([0-9]+)000000', r'\\1m', q)\n",
        "    q = re.sub(r'([0-9]+)000', r'\\1k', q)\n",
        "    \n",
        "    # Decontracting words\n",
        "    new_text = []\n",
        "\n",
        "    for word in q.split():\n",
        "\n",
        "        # Contractions\n",
        "        word = contractions.get(word.upper(), word)\n",
        "\n",
        "        # abbreviations\n",
        "        word = abbv.get(word.upper(), word)\n",
        "            \n",
        "        # Stemming\n",
        "        # word = ps.stem(word)\n",
        "\n",
        "        # Lemmatizing\n",
        "        word = lemmatizer.lemmatize(word)\n",
        "\n",
        "        if word not in stopwords or allow_stopwords:\n",
        "            new_text.append(word)\n",
        "\n",
        "    q = ' '.join(new_text)\n",
        "\n",
        "    \n",
        "    return q"
      ]
    },
    {
      "cell_type": "code",
      "execution_count": null,
      "metadata": {
        "id": "6ZU0OL7O0ePq",
        "colab": {
          "base_uri": "https://localhost:8080/",
          "height": 36
        },
        "outputId": "6ae18417-b40c-4d97-ef8c-83a84cc31941"
      },
      "outputs": [
        {
          "output_type": "execute_result",
          "data": {
            "text/plain": [
              "'ive already wasnt done there is a big tree'"
            ],
            "application/vnd.google.colaboratory.intrinsic+json": {
              "type": "string"
            }
          },
          "metadata": {},
          "execution_count": 8
        }
      ],
      "source": [
        "preprocess(\"I've already! wasn't <b>done</b>? There is a big tree\")"
      ]
    },
    {
      "cell_type": "code",
      "execution_count": null,
      "metadata": {
        "id": "zoa7vvwnQut_",
        "colab": {
          "base_uri": "https://localhost:8080/",
          "height": 36
        },
        "outputId": "0f37193d-12c3-4ff1-ce2d-2a26394736e4"
      },
      "outputs": [
        {
          "output_type": "execute_result",
          "data": {
            "text/plain": [
              "'ive already wasnt done big tree'"
            ],
            "application/vnd.google.colaboratory.intrinsic+json": {
              "type": "string"
            }
          },
          "metadata": {},
          "execution_count": 9
        }
      ],
      "source": [
        "preprocess(\"I've already! wasn't <b>done</b>? There is a big tree\", allow_stopwords=False)"
      ]
    },
    {
      "cell_type": "code",
      "execution_count": null,
      "metadata": {
        "id": "y_Y3F4-70eSI"
      },
      "outputs": [],
      "source": [
        "df['question1'] = df['question1'].apply(lambda x: preprocess(x, allow_stopwords=ALLOW_STOPWORDS))\n",
        "df['question2'] = df['question2'].apply(lambda x: preprocess(x, allow_stopwords=ALLOW_STOPWORDS))"
      ]
    },
    {
      "cell_type": "code",
      "execution_count": null,
      "metadata": {
        "id": "U4sEC-i2Fr0w",
        "colab": {
          "base_uri": "https://localhost:8080/",
          "height": 206
        },
        "outputId": "09c25984-aeb8-400a-de4c-473979f0a9a8"
      },
      "outputs": [
        {
          "output_type": "execute_result",
          "data": {
            "text/plain": [
              "            id    qid1    qid2  \\\n",
              "81424    81424  161740  161741   \n",
              "350428  350428  686512  686513   \n",
              "162442  162442  321149  321150   \n",
              "261498  261498  514570  514571   \n",
              "70085    70085  139301  139302   \n",
              "\n",
              "                                                question1  \\\n",
              "81424                 cant india get medal every olympics   \n",
              "350428  car accident common among high school student ...   \n",
              "162442                                conceptual analysis   \n",
              "261498                                      eye lord ring   \n",
              "70085                              management art science   \n",
              "\n",
              "                                             question2  is_duplicate  \n",
              "81424                     indian get le medal olympics             1  \n",
              "350428  carriage accident le common car accident today             0  \n",
              "162442                                conceptual model             0  \n",
              "261498                              powerful lord ring             0  \n",
              "70085                           management science art             1  "
            ],
            "text/html": [
              "\n",
              "  <div id=\"df-b0e2c71e-d6a1-4d6a-afbb-9ac87be4b719\">\n",
              "    <div class=\"colab-df-container\">\n",
              "      <div>\n",
              "<style scoped>\n",
              "    .dataframe tbody tr th:only-of-type {\n",
              "        vertical-align: middle;\n",
              "    }\n",
              "\n",
              "    .dataframe tbody tr th {\n",
              "        vertical-align: top;\n",
              "    }\n",
              "\n",
              "    .dataframe thead th {\n",
              "        text-align: right;\n",
              "    }\n",
              "</style>\n",
              "<table border=\"1\" class=\"dataframe\">\n",
              "  <thead>\n",
              "    <tr style=\"text-align: right;\">\n",
              "      <th></th>\n",
              "      <th>id</th>\n",
              "      <th>qid1</th>\n",
              "      <th>qid2</th>\n",
              "      <th>question1</th>\n",
              "      <th>question2</th>\n",
              "      <th>is_duplicate</th>\n",
              "    </tr>\n",
              "  </thead>\n",
              "  <tbody>\n",
              "    <tr>\n",
              "      <th>81424</th>\n",
              "      <td>81424</td>\n",
              "      <td>161740</td>\n",
              "      <td>161741</td>\n",
              "      <td>cant india get medal every olympics</td>\n",
              "      <td>indian get le medal olympics</td>\n",
              "      <td>1</td>\n",
              "    </tr>\n",
              "    <tr>\n",
              "      <th>350428</th>\n",
              "      <td>350428</td>\n",
              "      <td>686512</td>\n",
              "      <td>686513</td>\n",
              "      <td>car accident common among high school student ...</td>\n",
              "      <td>carriage accident le common car accident today</td>\n",
              "      <td>0</td>\n",
              "    </tr>\n",
              "    <tr>\n",
              "      <th>162442</th>\n",
              "      <td>162442</td>\n",
              "      <td>321149</td>\n",
              "      <td>321150</td>\n",
              "      <td>conceptual analysis</td>\n",
              "      <td>conceptual model</td>\n",
              "      <td>0</td>\n",
              "    </tr>\n",
              "    <tr>\n",
              "      <th>261498</th>\n",
              "      <td>261498</td>\n",
              "      <td>514570</td>\n",
              "      <td>514571</td>\n",
              "      <td>eye lord ring</td>\n",
              "      <td>powerful lord ring</td>\n",
              "      <td>0</td>\n",
              "    </tr>\n",
              "    <tr>\n",
              "      <th>70085</th>\n",
              "      <td>70085</td>\n",
              "      <td>139301</td>\n",
              "      <td>139302</td>\n",
              "      <td>management art science</td>\n",
              "      <td>management science art</td>\n",
              "      <td>1</td>\n",
              "    </tr>\n",
              "  </tbody>\n",
              "</table>\n",
              "</div>\n",
              "      <button class=\"colab-df-convert\" onclick=\"convertToInteractive('df-b0e2c71e-d6a1-4d6a-afbb-9ac87be4b719')\"\n",
              "              title=\"Convert this dataframe to an interactive table.\"\n",
              "              style=\"display:none;\">\n",
              "        \n",
              "  <svg xmlns=\"http://www.w3.org/2000/svg\" height=\"24px\"viewBox=\"0 0 24 24\"\n",
              "       width=\"24px\">\n",
              "    <path d=\"M0 0h24v24H0V0z\" fill=\"none\"/>\n",
              "    <path d=\"M18.56 5.44l.94 2.06.94-2.06 2.06-.94-2.06-.94-.94-2.06-.94 2.06-2.06.94zm-11 1L8.5 8.5l.94-2.06 2.06-.94-2.06-.94L8.5 2.5l-.94 2.06-2.06.94zm10 10l.94 2.06.94-2.06 2.06-.94-2.06-.94-.94-2.06-.94 2.06-2.06.94z\"/><path d=\"M17.41 7.96l-1.37-1.37c-.4-.4-.92-.59-1.43-.59-.52 0-1.04.2-1.43.59L10.3 9.45l-7.72 7.72c-.78.78-.78 2.05 0 2.83L4 21.41c.39.39.9.59 1.41.59.51 0 1.02-.2 1.41-.59l7.78-7.78 2.81-2.81c.8-.78.8-2.07 0-2.86zM5.41 20L4 18.59l7.72-7.72 1.47 1.35L5.41 20z\"/>\n",
              "  </svg>\n",
              "      </button>\n",
              "      \n",
              "  <style>\n",
              "    .colab-df-container {\n",
              "      display:flex;\n",
              "      flex-wrap:wrap;\n",
              "      gap: 12px;\n",
              "    }\n",
              "\n",
              "    .colab-df-convert {\n",
              "      background-color: #E8F0FE;\n",
              "      border: none;\n",
              "      border-radius: 50%;\n",
              "      cursor: pointer;\n",
              "      display: none;\n",
              "      fill: #1967D2;\n",
              "      height: 32px;\n",
              "      padding: 0 0 0 0;\n",
              "      width: 32px;\n",
              "    }\n",
              "\n",
              "    .colab-df-convert:hover {\n",
              "      background-color: #E2EBFA;\n",
              "      box-shadow: 0px 1px 2px rgba(60, 64, 67, 0.3), 0px 1px 3px 1px rgba(60, 64, 67, 0.15);\n",
              "      fill: #174EA6;\n",
              "    }\n",
              "\n",
              "    [theme=dark] .colab-df-convert {\n",
              "      background-color: #3B4455;\n",
              "      fill: #D2E3FC;\n",
              "    }\n",
              "\n",
              "    [theme=dark] .colab-df-convert:hover {\n",
              "      background-color: #434B5C;\n",
              "      box-shadow: 0px 1px 3px 1px rgba(0, 0, 0, 0.15);\n",
              "      filter: drop-shadow(0px 1px 2px rgba(0, 0, 0, 0.3));\n",
              "      fill: #FFFFFF;\n",
              "    }\n",
              "  </style>\n",
              "\n",
              "      <script>\n",
              "        const buttonEl =\n",
              "          document.querySelector('#df-b0e2c71e-d6a1-4d6a-afbb-9ac87be4b719 button.colab-df-convert');\n",
              "        buttonEl.style.display =\n",
              "          google.colab.kernel.accessAllowed ? 'block' : 'none';\n",
              "\n",
              "        async function convertToInteractive(key) {\n",
              "          const element = document.querySelector('#df-b0e2c71e-d6a1-4d6a-afbb-9ac87be4b719');\n",
              "          const dataTable =\n",
              "            await google.colab.kernel.invokeFunction('convertToInteractive',\n",
              "                                                     [key], {});\n",
              "          if (!dataTable) return;\n",
              "\n",
              "          const docLinkHtml = 'Like what you see? Visit the ' +\n",
              "            '<a target=\"_blank\" href=https://colab.research.google.com/notebooks/data_table.ipynb>data table notebook</a>'\n",
              "            + ' to learn more about interactive tables.';\n",
              "          element.innerHTML = '';\n",
              "          dataTable['output_type'] = 'display_data';\n",
              "          await google.colab.output.renderOutput(dataTable, element);\n",
              "          const docLink = document.createElement('div');\n",
              "          docLink.innerHTML = docLinkHtml;\n",
              "          element.appendChild(docLink);\n",
              "        }\n",
              "      </script>\n",
              "    </div>\n",
              "  </div>\n",
              "  "
            ]
          },
          "metadata": {},
          "execution_count": 11
        }
      ],
      "source": [
        "df.head()"
      ]
    },
    {
      "cell_type": "markdown",
      "metadata": {
        "id": "CxwePJKyRpuz"
      },
      "source": [
        "## Cosine Similarity"
      ]
    },
    {
      "cell_type": "code",
      "execution_count": null,
      "metadata": {
        "id": "hE60SYqDllLm",
        "colab": {
          "base_uri": "https://localhost:8080/"
        },
        "outputId": "ad75fcbb-08bc-4318-e366-fe7be23a25cd"
      },
      "outputs": [
        {
          "output_type": "execute_result",
          "data": {
            "text/plain": [
              "0.40827244764003007"
            ]
          },
          "metadata": {},
          "execution_count": 12
        }
      ],
      "source": [
        "from numpy.linalg import norm\n",
        "SAFE_DIV = 0.0001\n",
        "\n",
        "def cos_sim(q1, q2, allow_stopwords=True):\n",
        "    q1 = [i for i in q1.split() if i not in stopwords or allow_stopwords]\n",
        "    q2 = [i for i in q2.split() if i not in stopwords or allow_stopwords]\n",
        "\n",
        "    vocab = set(q1 + q2)\n",
        "\n",
        "    vocab1 = dict(zip(vocab, [0]*len(vocab)))\n",
        "    vocab2 = dict(zip(vocab, [0]*len(vocab)))\n",
        "\n",
        "    for w in q1:\n",
        "        vocab1[w] += 1\n",
        "    for w in q2:\n",
        "        vocab2[w] += 1\n",
        "\n",
        "    v1 = list(vocab1.values())\n",
        "    v2 = list(vocab2.values())\n",
        "\n",
        "    return (np.dot(v1,v2) + SAFE_DIV)/(norm(v1)*norm(v2) + SAFE_DIV)\n",
        "\n",
        "\n",
        "cos_sim(\"hello from the other side\", \"hi from ali's side\", allow_stopwords=ALLOW_STOPWORDS)"
      ]
    },
    {
      "cell_type": "code",
      "execution_count": null,
      "metadata": {
        "id": "TctlOEMfRtpm",
        "colab": {
          "base_uri": "https://localhost:8080/"
        },
        "outputId": "2a856ed7-faa5-429a-9e0e-3c237ecf19b6"
      },
      "outputs": [
        {
          "output_type": "stream",
          "name": "stderr",
          "text": [
            "298550it [00:28, 10604.18it/s]\n"
          ]
        }
      ],
      "source": [
        "sims = []\n",
        "for q1, q2 in tqdm(zip(df['question1'].values, df['question2'].values)):\n",
        "    sims.append(cos_sim(str(q1), str(q2), allow_stopwords=ALLOW_STOPWORDS))\n",
        "df['cos_sim'] = sims"
      ]
    },
    {
      "cell_type": "markdown",
      "metadata": {
        "id": "J0CT429-gOPH"
      },
      "source": [
        "### Visualizing Features"
      ]
    },
    {
      "cell_type": "code",
      "execution_count": null,
      "metadata": {
        "id": "hn25odoFc6ZY"
      },
      "outputs": [],
      "source": [
        "anas = []\n",
        "thres = []\n",
        "sample_pers = []\n",
        "zer_pers = []\n",
        "\n",
        "for i in np.linspace(0.1, 0.9, num=17):\n",
        "    SIM_THRESH = i\n",
        "\n",
        "    vc = df[df['cos_sim'] < SIM_THRESH].is_duplicate.value_counts()\n",
        "    sample_per = vc.sum() * 100 / len(df)\n",
        "    zer_per = (vc / vc.sum())[0] * 100\n",
        "\n",
        "    anas.append({\n",
        "        \"thresh\": SIM_THRESH,\n",
        "        \"sample_per\": sample_per,\n",
        "        \"zer_per\": zer_per,\n",
        "    })\n",
        "    thres.append(SIM_THRESH)\n",
        "    sample_pers.append(sample_per)\n",
        "    zer_pers.append(zer_per)"
      ]
    },
    {
      "cell_type": "code",
      "execution_count": null,
      "metadata": {
        "id": "ftckSuUkc6by",
        "colab": {
          "base_uri": "https://localhost:8080/"
        },
        "outputId": "39f1cc2d-0248-434d-b290-60679f520098"
      },
      "outputs": [
        {
          "output_type": "execute_result",
          "data": {
            "text/plain": [
              "[{'thresh': 0.1,\n",
              "  'sample_per': 7.776921788645118,\n",
              "  'zer_per': 99.67697476096133},\n",
              " {'thresh': 0.15000000000000002,\n",
              "  'sample_per': 8.867526377491208,\n",
              "  'zer_per': 99.69026214399032},\n",
              " {'thresh': 0.2,\n",
              "  'sample_per': 10.578797521353208,\n",
              "  'zer_per': 99.60421745875946},\n",
              " {'thresh': 0.25,\n",
              "  'sample_per': 12.911070172500418,\n",
              "  'zer_per': 98.9441187153012},\n",
              " {'thresh': 0.30000000000000004,\n",
              "  'sample_per': 16.34801540780439,\n",
              "  'zer_per': 96.84061712459278},\n",
              " {'thresh': 0.35,\n",
              "  'sample_per': 20.232456874895327,\n",
              "  'zer_per': 91.93430898615985},\n",
              " {'thresh': 0.4,\n",
              "  'sample_per': 24.177859654999164,\n",
              "  'zer_per': 87.66468559079007},\n",
              " {'thresh': 0.45000000000000007,\n",
              "  'sample_per': 32.28671914252219,\n",
              "  'zer_per': 79.21196779815752},\n",
              " {'thresh': 0.5,\n",
              "  'sample_per': 35.25506615307319,\n",
              "  'zer_per': 77.23316928572785},\n",
              " {'thresh': 0.55,\n",
              "  'sample_per': 44.50443811756825,\n",
              "  'zer_per': 70.30812535749766},\n",
              " {'thresh': 0.6,\n",
              "  'sample_per': 50.581812091776925,\n",
              "  'zer_per': 66.7198633221201},\n",
              " {'thresh': 0.65,\n",
              "  'sample_per': 55.66471277842908,\n",
              "  'zer_per': 63.78597603904036},\n",
              " {'thresh': 0.7000000000000001,\n",
              "  'sample_per': 64.471947747446,\n",
              "  'zer_per': 59.64536759472363},\n",
              " {'thresh': 0.75,\n",
              "  'sample_per': 69.52704739574611,\n",
              "  'zer_per': 57.8365201639905},\n",
              " {'thresh': 0.8,\n",
              "  'sample_per': 75.74476637079216,\n",
              "  'zer_per': 55.90750698694591},\n",
              " {'thresh': 0.85,\n",
              "  'sample_per': 83.09830849104003,\n",
              "  'zer_per': 54.41613930428474},\n",
              " {'thresh': 0.9,\n",
              "  'sample_per': 90.55300619661698,\n",
              "  'zer_per': 53.04461689834509}]"
            ]
          },
          "metadata": {},
          "execution_count": 24
        }
      ],
      "source": [
        "anas"
      ]
    },
    {
      "cell_type": "code",
      "execution_count": null,
      "metadata": {
        "id": "l7LYB9b6e9-g",
        "colab": {
          "base_uri": "https://localhost:8080/",
          "height": 283
        },
        "outputId": "019e8e42-456c-475c-c9e6-449f4c0bd048"
      },
      "outputs": [
        {
          "output_type": "execute_result",
          "data": {
            "text/plain": [
              "[<matplotlib.lines.Line2D at 0x7f629be0f310>]"
            ]
          },
          "metadata": {},
          "execution_count": 25
        },
        {
          "output_type": "display_data",
          "data": {
            "text/plain": [
              "<Figure size 432x288 with 1 Axes>"
            ],
            "image/png": "[encoded data removed]"
          },
          "metadata": {
            "needs_background": "light"
          }
        }
      ],
      "source": [
        "plt.plot(thres, sample_pers)\n",
        "plt.plot(thres, zer_pers)"
      ]
    },
    {
      "cell_type": "code",
      "execution_count": null,
      "metadata": {
        "id": "5SD0BdWrc6ea",
        "colab": {
          "base_uri": "https://localhost:8080/",
          "height": 283
        },
        "outputId": "4c7672c4-8c3a-4162-a8b2-c222db58086c"
      },
      "outputs": [
        {
          "output_type": "execute_result",
          "data": {
            "text/plain": [
              "[<matplotlib.lines.Line2D at 0x7f629bbd2b20>]"
            ]
          },
          "metadata": {},
          "execution_count": 26
        },
        {
          "output_type": "display_data",
          "data": {
            "text/plain": [
              "<Figure size 432x288 with 1 Axes>"
            ],
            "image/png": "[encoded data removed]"
          },
          "metadata": {
            "needs_background": "light"
          }
        }
      ],
      "source": [
        "plt.plot(sample_pers, zer_pers)"
      ]
    },
    {
      "cell_type": "code",
      "execution_count": null,
      "metadata": {
        "id": "-lDLPSdQp0Gw",
        "colab": {
          "base_uri": "https://localhost:8080/",
          "height": 372
        },
        "outputId": "5dc49a1f-6675-4a6d-dee9-d6ba0f33d880"
      },
      "outputs": [
        {
          "output_type": "stream",
          "name": "stderr",
          "text": [
            "/usr/local/lib/python3.8/dist-packages/seaborn/distributions.py:2619: FutureWarning: `distplot` is a deprecated function and will be removed in a future version. Please adapt your code to use either `displot` (a figure-level function with similar flexibility) or `histplot` (an axes-level function for histograms).\n",
            "  warnings.warn(msg, FutureWarning)\n",
            "/usr/local/lib/python3.8/dist-packages/seaborn/distributions.py:2619: FutureWarning: `distplot` is a deprecated function and will be removed in a future version. Please adapt your code to use either `displot` (a figure-level function with similar flexibility) or `histplot` (an axes-level function for histograms).\n",
            "  warnings.warn(msg, FutureWarning)\n"
          ]
        },
        {
          "output_type": "display_data",
          "data": {
            "text/plain": [
              "<Figure size 432x288 with 1 Axes>"
            ],
            "image/png": "[encoded data removed]"
          },
          "metadata": {
            "needs_background": "light"
          }
        }
      ],
      "source": [
        "sns.distplot(df[df['is_duplicate'] == 0]['cos_sim'],label='non duplicate')\n",
        "sns.distplot(df[df['is_duplicate'] == 1]['cos_sim'],label='duplicate')\n",
        "plt.legend()\n",
        "plt.show()"
      ]
    },
    {
      "cell_type": "markdown",
      "metadata": {
        "id": "FfB0ds1rzuCB"
      },
      "source": [
        "## Basic Features\n",
        "1. length of sentence\n",
        "2. num of words in sentence\n",
        "3. common words (if two sentences are being compared)\n",
        "4. total words (sum of two if two sentences are being compared)\n",
        "5. ratio of common words to total words"
      ]
    },
    {
      "cell_type": "code",
      "execution_count": null,
      "metadata": {
        "id": "79ypuN1U0348"
      },
      "outputs": [],
      "source": [
        "# 1. Length of Questions\n",
        "\n",
        "df['q1_len'] = df['question1'].str.len() \n",
        "df['q2_len'] = df['question2'].str.len()"
      ]
    },
    {
      "cell_type": "code",
      "execution_count": null,
      "metadata": {
        "id": "dCUBUGsV037e"
      },
      "outputs": [],
      "source": [
        "# 2. Number of Words in each Question\n",
        "\n",
        "df['q1_num_words'] = df['question1'].apply(lambda row: len(row.split(\" \")))\n",
        "df['q2_num_words'] = df['question2'].apply(lambda row: len(row.split(\" \")))"
      ]
    },
    {
      "cell_type": "code",
      "execution_count": null,
      "metadata": {
        "id": "DHRTBwtB1WJJ"
      },
      "outputs": [],
      "source": [
        "# 3. Number of Common Words\n",
        "\n",
        "def common_words(row):\n",
        "    w1 = set(map(lambda word: word.lower().strip(), row['question1'].split(\" \")))\n",
        "    w2 = set(map(lambda word: word.lower().strip(), row['question2'].split(\" \")))    \n",
        "    return len(w1 & w2)\n",
        "\n",
        "df['word_common'] = df.apply(common_words, axis=1)"
      ]
    },
    {
      "cell_type": "code",
      "execution_count": null,
      "metadata": {
        "id": "8PeesZJU1WLn"
      },
      "outputs": [],
      "source": [
        "# 4. Number of Total Words\n",
        "\n",
        "def total_words(row):\n",
        "    w1 = set(map(lambda word: word.lower().strip(), row['question1'].split(\" \")))\n",
        "    w2 = set(map(lambda word: word.lower().strip(), row['question2'].split(\" \")))    \n",
        "    return (len(w1) + len(w2))\n",
        "\n",
        "df['word_total'] = df.apply(total_words, axis=1)"
      ]
    },
    {
      "cell_type": "code",
      "execution_count": null,
      "metadata": {
        "id": "MjRW5fD41WOJ"
      },
      "outputs": [],
      "source": [
        "# 5. Ratio of Word Share\n",
        "\n",
        "df['word_share'] = round(df['word_common']/df['word_total'],2)"
      ]
    },
    {
      "cell_type": "code",
      "execution_count": null,
      "metadata": {
        "id": "ezLNOE_N03-N",
        "colab": {
          "base_uri": "https://localhost:8080/",
          "height": 406
        },
        "outputId": "978e85d0-739e-4aa4-8bed-22ac935059d0"
      },
      "outputs": [
        {
          "output_type": "execute_result",
          "data": {
            "text/plain": [
              "            id    qid1    qid2  \\\n",
              "81424    81424  161740  161741   \n",
              "350428  350428  686512  686513   \n",
              "162442  162442  321149  321150   \n",
              "261498  261498  514570  514571   \n",
              "70085    70085  139301  139302   \n",
              "\n",
              "                                                question1  \\\n",
              "81424                 cant india get medal every olympics   \n",
              "350428  car accident common among high school student ...   \n",
              "162442                                conceptual analysis   \n",
              "261498                                      eye lord ring   \n",
              "70085                              management art science   \n",
              "\n",
              "                                             question2  is_duplicate  \\\n",
              "81424                     indian get le medal olympics             1   \n",
              "350428  carriage accident le common car accident today             0   \n",
              "162442                                conceptual model             0   \n",
              "261498                              powerful lord ring             0   \n",
              "70085                           management science art             1   \n",
              "\n",
              "         cos_sim  q1_len  q2_len  q1_num_words  q2_num_words  word_common  \\\n",
              "81424   0.547731      35      28             6             5            3   \n",
              "350428  0.402021      61      46             9             7            3   \n",
              "162442  0.500025      19      16             2             2            1   \n",
              "261498  0.666678      13      18             3             3            2   \n",
              "70085   1.000000      22      22             3             3            3   \n",
              "\n",
              "        word_total  word_share  \n",
              "81424           11        0.27  \n",
              "350428          14        0.21  \n",
              "162442           4        0.25  \n",
              "261498           6        0.33  \n",
              "70085            6        0.50  "
            ],
            "text/html": [
              "\n",
              "  <div id=\"df-bf209824-6dcc-4f1d-8c49-c0d9cb928b6f\">\n",
              "    <div class=\"colab-df-container\">\n",
              "      <div>\n",
              "<style scoped>\n",
              "    .dataframe tbody tr th:only-of-type {\n",
              "        vertical-align: middle;\n",
              "    }\n",
              "\n",
              "    .dataframe tbody tr th {\n",
              "        vertical-align: top;\n",
              "    }\n",
              "\n",
              "    .dataframe thead th {\n",
              "        text-align: right;\n",
              "    }\n",
              "</style>\n",
              "<table border=\"1\" class=\"dataframe\">\n",
              "  <thead>\n",
              "    <tr style=\"text-align: right;\">\n",
              "      <th></th>\n",
              "      <th>id</th>\n",
              "      <th>qid1</th>\n",
              "      <th>qid2</th>\n",
              "      <th>question1</th>\n",
              "      <th>question2</th>\n",
              "      <th>is_duplicate</th>\n",
              "      <th>cos_sim</th>\n",
              "      <th>q1_len</th>\n",
              "      <th>q2_len</th>\n",
              "      <th>q1_num_words</th>\n",
              "      <th>q2_num_words</th>\n",
              "      <th>word_common</th>\n",
              "      <th>word_total</th>\n",
              "      <th>word_share</th>\n",
              "    </tr>\n",
              "  </thead>\n",
              "  <tbody>\n",
              "    <tr>\n",
              "      <th>81424</th>\n",
              "      <td>81424</td>\n",
              "      <td>161740</td>\n",
              "      <td>161741</td>\n",
              "      <td>cant india get medal every olympics</td>\n",
              "      <td>indian get le medal olympics</td>\n",
              "      <td>1</td>\n",
              "      <td>0.547731</td>\n",
              "      <td>35</td>\n",
              "      <td>28</td>\n",
              "      <td>6</td>\n",
              "      <td>5</td>\n",
              "      <td>3</td>\n",
              "      <td>11</td>\n",
              "      <td>0.27</td>\n",
              "    </tr>\n",
              "    <tr>\n",
              "      <th>350428</th>\n",
              "      <td>350428</td>\n",
              "      <td>686512</td>\n",
              "      <td>686513</td>\n",
              "      <td>car accident common among high school student ...</td>\n",
              "      <td>carriage accident le common car accident today</td>\n",
              "      <td>0</td>\n",
              "      <td>0.402021</td>\n",
              "      <td>61</td>\n",
              "      <td>46</td>\n",
              "      <td>9</td>\n",
              "      <td>7</td>\n",
              "      <td>3</td>\n",
              "      <td>14</td>\n",
              "      <td>0.21</td>\n",
              "    </tr>\n",
              "    <tr>\n",
              "      <th>162442</th>\n",
              "      <td>162442</td>\n",
              "      <td>321149</td>\n",
              "      <td>321150</td>\n",
              "      <td>conceptual analysis</td>\n",
              "      <td>conceptual model</td>\n",
              "      <td>0</td>\n",
              "      <td>0.500025</td>\n",
              "      <td>19</td>\n",
              "      <td>16</td>\n",
              "      <td>2</td>\n",
              "      <td>2</td>\n",
              "      <td>1</td>\n",
              "      <td>4</td>\n",
              "      <td>0.25</td>\n",
              "    </tr>\n",
              "    <tr>\n",
              "      <th>261498</th>\n",
              "      <td>261498</td>\n",
              "      <td>514570</td>\n",
              "      <td>514571</td>\n",
              "      <td>eye lord ring</td>\n",
              "      <td>powerful lord ring</td>\n",
              "      <td>0</td>\n",
              "      <td>0.666678</td>\n",
              "      <td>13</td>\n",
              "      <td>18</td>\n",
              "      <td>3</td>\n",
              "      <td>3</td>\n",
              "      <td>2</td>\n",
              "      <td>6</td>\n",
              "      <td>0.33</td>\n",
              "    </tr>\n",
              "    <tr>\n",
              "      <th>70085</th>\n",
              "      <td>70085</td>\n",
              "      <td>139301</td>\n",
              "      <td>139302</td>\n",
              "      <td>management art science</td>\n",
              "      <td>management science art</td>\n",
              "      <td>1</td>\n",
              "      <td>1.000000</td>\n",
              "      <td>22</td>\n",
              "      <td>22</td>\n",
              "      <td>3</td>\n",
              "      <td>3</td>\n",
              "      <td>3</td>\n",
              "      <td>6</td>\n",
              "      <td>0.50</td>\n",
              "    </tr>\n",
              "  </tbody>\n",
              "</table>\n",
              "</div>\n",
              "      <button class=\"colab-df-convert\" onclick=\"convertToInteractive('df-bf209824-6dcc-4f1d-8c49-c0d9cb928b6f')\"\n",
              "              title=\"Convert this dataframe to an interactive table.\"\n",
              "              style=\"display:none;\">\n",
              "        \n",
              "  <svg xmlns=\"http://www.w3.org/2000/svg\" height=\"24px\"viewBox=\"0 0 24 24\"\n",
              "       width=\"24px\">\n",
              "    <path d=\"M0 0h24v24H0V0z\" fill=\"none\"/>\n",
              "    <path d=\"M18.56 5.44l.94 2.06.94-2.06 2.06-.94-2.06-.94-.94-2.06-.94 2.06-2.06.94zm-11 1L8.5 8.5l.94-2.06 2.06-.94-2.06-.94L8.5 2.5l-.94 2.06-2.06.94zm10 10l.94 2.06.94-2.06 2.06-.94-2.06-.94-.94-2.06-.94 2.06-2.06.94z\"/><path d=\"M17.41 7.96l-1.37-1.37c-.4-.4-.92-.59-1.43-.59-.52 0-1.04.2-1.43.59L10.3 9.45l-7.72 7.72c-.78.78-.78 2.05 0 2.83L4 21.41c.39.39.9.59 1.41.59.51 0 1.02-.2 1.41-.59l7.78-7.78 2.81-2.81c.8-.78.8-2.07 0-2.86zM5.41 20L4 18.59l7.72-7.72 1.47 1.35L5.41 20z\"/>\n",
              "  </svg>\n",
              "      </button>\n",
              "      \n",
              "  <style>\n",
              "    .colab-df-container {\n",
              "      display:flex;\n",
              "      flex-wrap:wrap;\n",
              "      gap: 12px;\n",
              "    }\n",
              "\n",
              "    .colab-df-convert {\n",
              "      background-color: #E8F0FE;\n",
              "      border: none;\n",
              "      border-radius: 50%;\n",
              "      cursor: pointer;\n",
              "      display: none;\n",
              "      fill: #1967D2;\n",
              "      height: 32px;\n",
              "      padding: 0 0 0 0;\n",
              "      width: 32px;\n",
              "    }\n",
              "\n",
              "    .colab-df-convert:hover {\n",
              "      background-color: #E2EBFA;\n",
              "      box-shadow: 0px 1px 2px rgba(60, 64, 67, 0.3), 0px 1px 3px 1px rgba(60, 64, 67, 0.15);\n",
              "      fill: #174EA6;\n",
              "    }\n",
              "\n",
              "    [theme=dark] .colab-df-convert {\n",
              "      background-color: #3B4455;\n",
              "      fill: #D2E3FC;\n",
              "    }\n",
              "\n",
              "    [theme=dark] .colab-df-convert:hover {\n",
              "      background-color: #434B5C;\n",
              "      box-shadow: 0px 1px 3px 1px rgba(0, 0, 0, 0.15);\n",
              "      filter: drop-shadow(0px 1px 2px rgba(0, 0, 0, 0.3));\n",
              "      fill: #FFFFFF;\n",
              "    }\n",
              "  </style>\n",
              "\n",
              "      <script>\n",
              "        const buttonEl =\n",
              "          document.querySelector('#df-bf209824-6dcc-4f1d-8c49-c0d9cb928b6f button.colab-df-convert');\n",
              "        buttonEl.style.display =\n",
              "          google.colab.kernel.accessAllowed ? 'block' : 'none';\n",
              "\n",
              "        async function convertToInteractive(key) {\n",
              "          const element = document.querySelector('#df-bf209824-6dcc-4f1d-8c49-c0d9cb928b6f');\n",
              "          const dataTable =\n",
              "            await google.colab.kernel.invokeFunction('convertToInteractive',\n",
              "                                                     [key], {});\n",
              "          if (!dataTable) return;\n",
              "\n",
              "          const docLinkHtml = 'Like what you see? Visit the ' +\n",
              "            '<a target=\"_blank\" href=https://colab.research.google.com/notebooks/data_table.ipynb>data table notebook</a>'\n",
              "            + ' to learn more about interactive tables.';\n",
              "          element.innerHTML = '';\n",
              "          dataTable['output_type'] = 'display_data';\n",
              "          await google.colab.output.renderOutput(dataTable, element);\n",
              "          const docLink = document.createElement('div');\n",
              "          docLink.innerHTML = docLinkHtml;\n",
              "          element.appendChild(docLink);\n",
              "        }\n",
              "      </script>\n",
              "    </div>\n",
              "  </div>\n",
              "  "
            ]
          },
          "metadata": {},
          "execution_count": 19
        }
      ],
      "source": [
        "df.head()"
      ]
    },
    {
      "cell_type": "markdown",
      "metadata": {
        "id": "tXHJQPSCzv-6"
      },
      "source": [
        "## Token Features\n",
        "1. cwc_min: This is the ratio of the number of common words to the length of the smaller question\n",
        "2. cwc_max: This is the ratio of the number of common words to the length of the larger question\n",
        "3. csc_min: This is the ratio of the number of common stop words to the smaller stop word count among the two questions\n",
        "4. csc_max: This is the ratio of the number of common stop words to the larger stop word count among the two questions\n",
        "5. ctc_min: This is the ratio of the number of common tokens to the smaller token count among the two questions\n",
        "6. ctc_max: This is the ratio of the number of common tokens to the larger token count among the two questions\n",
        "7. last_word_eq: 1 if the last word in the two questions is same, 0 otherwise\n",
        "8. first_word_eq: 1 if the first word in the two questions is same, 0 otherwise"
      ]
    },
    {
      "cell_type": "code",
      "execution_count": null,
      "metadata": {
        "id": "V7o5aSfm4miu"
      },
      "outputs": [],
      "source": [
        "def fetch_token_features(row):\n",
        "    \n",
        "    q1 = row['question1']\n",
        "    q2 = row['question2']\n",
        "    \n",
        "    SAFE_DIV = 0.0001 \n",
        "\n",
        "    STOP_WORDS = nltk.corpus.stopwords.words(\"english\")\n",
        "    \n",
        "    token_features = [0.0]*8\n",
        "    \n",
        "    # Converting the Sentence into Tokens: \n",
        "    q1_tokens = q1.split()\n",
        "    q2_tokens = q2.split()\n",
        "    \n",
        "    if len(q1_tokens) == 0 or len(q2_tokens) == 0:\n",
        "        return token_features\n",
        "\n",
        "    # Get the non-stopwords in Questions\n",
        "    q1_words = set([word for word in q1_tokens if word not in STOP_WORDS])\n",
        "    q2_words = set([word for word in q2_tokens if word not in STOP_WORDS])\n",
        "    \n",
        "    #Get the stopwords in Questions\n",
        "    q1_stops = set([word for word in q1_tokens if word in STOP_WORDS])\n",
        "    q2_stops = set([word for word in q2_tokens if word in STOP_WORDS])\n",
        "    \n",
        "    # Get the common non-stopwords from Question pair\n",
        "    common_word_count = len(q1_words.intersection(q2_words))\n",
        "    \n",
        "    # Get the common stopwords from Question pair\n",
        "    common_stop_count = len(q1_stops.intersection(q2_stops))\n",
        "    \n",
        "    # Get the common Tokens from Question pair\n",
        "    common_token_count = len(set(q1_tokens).intersection(set(q2_tokens)))\n",
        "    \n",
        "    \n",
        "    token_features[0] = common_word_count / (min(len(q1_words), len(q2_words)) + SAFE_DIV)\n",
        "    token_features[1] = common_word_count / (max(len(q1_words), len(q2_words)) + SAFE_DIV)\n",
        "    token_features[2] = common_stop_count / (min(len(q1_stops), len(q2_stops)) + SAFE_DIV)\n",
        "    token_features[3] = common_stop_count / (max(len(q1_stops), len(q2_stops)) + SAFE_DIV)\n",
        "    token_features[4] = common_token_count / (min(len(q1_tokens), len(q2_tokens)) + SAFE_DIV)\n",
        "    token_features[5] = common_token_count / (max(len(q1_tokens), len(q2_tokens)) + SAFE_DIV)\n",
        "    \n",
        "    # Last word of both question is same or not\n",
        "    token_features[6] = int(q1_tokens[-1] == q2_tokens[-1])\n",
        "    \n",
        "    # First word of both question is same or not\n",
        "    token_features[7] = int(q1_tokens[0] == q2_tokens[0])\n",
        "    \n",
        "    return token_features"
      ]
    },
    {
      "cell_type": "code",
      "execution_count": null,
      "metadata": {
        "id": "oU9Rp9u14mlU"
      },
      "outputs": [],
      "source": [
        "token_features = df.apply(fetch_token_features, axis=1)\n",
        "\n",
        "df[\"cwc_min\"]       = list(map(lambda x: x[0], token_features))\n",
        "df[\"cwc_max\"]       = list(map(lambda x: x[1], token_features))\n",
        "df[\"csc_min\"]       = list(map(lambda x: x[2], token_features))\n",
        "df[\"csc_max\"]       = list(map(lambda x: x[3], token_features))\n",
        "df[\"ctc_min\"]       = list(map(lambda x: x[4], token_features))\n",
        "df[\"ctc_max\"]       = list(map(lambda x: x[5], token_features))\n",
        "df[\"last_word_eq\"]  = list(map(lambda x: x[6], token_features))\n",
        "df[\"first_word_eq\"] = list(map(lambda x: x[7], token_features))"
      ]
    },
    {
      "cell_type": "code",
      "execution_count": null,
      "metadata": {
        "id": "u6DgG_9l4mnp",
        "colab": {
          "base_uri": "https://localhost:8080/",
          "height": 473
        },
        "outputId": "c8c09f54-e462-4d88-e1ec-55116d783a04"
      },
      "outputs": [
        {
          "output_type": "execute_result",
          "data": {
            "text/plain": [
              "            id    qid1    qid2  \\\n",
              "81424    81424  161740  161741   \n",
              "350428  350428  686512  686513   \n",
              "162442  162442  321149  321150   \n",
              "261498  261498  514570  514571   \n",
              "70085    70085  139301  139302   \n",
              "\n",
              "                                                question1  \\\n",
              "81424                 cant india get medal every olympics   \n",
              "350428  car accident common among high school student ...   \n",
              "162442                                conceptual analysis   \n",
              "261498                                      eye lord ring   \n",
              "70085                              management art science   \n",
              "\n",
              "                                             question2  is_duplicate  \\\n",
              "81424                     indian get le medal olympics             1   \n",
              "350428  carriage accident le common car accident today             0   \n",
              "162442                                conceptual model             0   \n",
              "261498                              powerful lord ring             0   \n",
              "70085                           management science art             1   \n",
              "\n",
              "         cos_sim  q1_len  q2_len  q1_num_words  ...  word_total  word_share  \\\n",
              "81424   0.547731      35      28             6  ...          11        0.27   \n",
              "350428  0.402021      61      46             9  ...          14        0.21   \n",
              "162442  0.500025      19      16             2  ...           4        0.25   \n",
              "261498  0.666678      13      18             3  ...           6        0.33   \n",
              "70085   1.000000      22      22             3  ...           6        0.50   \n",
              "\n",
              "         cwc_min   cwc_max  csc_min  csc_max   ctc_min   ctc_max  \\\n",
              "81424   0.599988  0.499992      0.0      0.0  0.599988  0.499992   \n",
              "350428  0.499992  0.374995      0.0      0.0  0.428565  0.333330   \n",
              "162442  0.499975  0.499975      0.0      0.0  0.499975  0.499975   \n",
              "261498  0.666644  0.666644      0.0      0.0  0.666644  0.666644   \n",
              "70085   0.999967  0.999967      0.0      0.0  0.999967  0.999967   \n",
              "\n",
              "        last_word_eq  first_word_eq  \n",
              "81424            1.0            0.0  \n",
              "350428           0.0            0.0  \n",
              "162442           0.0            1.0  \n",
              "261498           1.0            0.0  \n",
              "70085            0.0            1.0  \n",
              "\n",
              "[5 rows x 22 columns]"
            ],
            "text/html": [
              "\n",
              "  <div id=\"df-818a3d06-a6cb-459d-aae4-0241c356481a\">\n",
              "    <div class=\"colab-df-container\">\n",
              "      <div>\n",
              "<style scoped>\n",
              "    .dataframe tbody tr th:only-of-type {\n",
              "        vertical-align: middle;\n",
              "    }\n",
              "\n",
              "    .dataframe tbody tr th {\n",
              "        vertical-align: top;\n",
              "    }\n",
              "\n",
              "    .dataframe thead th {\n",
              "        text-align: right;\n",
              "    }\n",
              "</style>\n",
              "<table border=\"1\" class=\"dataframe\">\n",
              "  <thead>\n",
              "    <tr style=\"text-align: right;\">\n",
              "      <th></th>\n",
              "      <th>id</th>\n",
              "      <th>qid1</th>\n",
              "      <th>qid2</th>\n",
              "      <th>question1</th>\n",
              "      <th>question2</th>\n",
              "      <th>is_duplicate</th>\n",
              "      <th>cos_sim</th>\n",
              "      <th>q1_len</th>\n",
              "      <th>q2_len</th>\n",
              "      <th>q1_num_words</th>\n",
              "      <th>...</th>\n",
              "      <th>word_total</th>\n",
              "      <th>word_share</th>\n",
              "      <th>cwc_min</th>\n",
              "      <th>cwc_max</th>\n",
              "      <th>csc_min</th>\n",
              "      <th>csc_max</th>\n",
              "      <th>ctc_min</th>\n",
              "      <th>ctc_max</th>\n",
              "      <th>last_word_eq</th>\n",
              "      <th>first_word_eq</th>\n",
              "    </tr>\n",
              "  </thead>\n",
              "  <tbody>\n",
              "    <tr>\n",
              "      <th>81424</th>\n",
              "      <td>81424</td>\n",
              "      <td>161740</td>\n",
              "      <td>161741</td>\n",
              "      <td>cant india get medal every olympics</td>\n",
              "      <td>indian get le medal olympics</td>\n",
              "      <td>1</td>\n",
              "      <td>0.547731</td>\n",
              "      <td>35</td>\n",
              "      <td>28</td>\n",
              "      <td>6</td>\n",
              "      <td>...</td>\n",
              "      <td>11</td>\n",
              "      <td>0.27</td>\n",
              "      <td>0.599988</td>\n",
              "      <td>0.499992</td>\n",
              "      <td>0.0</td>\n",
              "      <td>0.0</td>\n",
              "      <td>0.599988</td>\n",
              "      <td>0.499992</td>\n",
              "      <td>1.0</td>\n",
              "      <td>0.0</td>\n",
              "    </tr>\n",
              "    <tr>\n",
              "      <th>350428</th>\n",
              "      <td>350428</td>\n",
              "      <td>686512</td>\n",
              "      <td>686513</td>\n",
              "      <td>car accident common among high school student ...</td>\n",
              "      <td>carriage accident le common car accident today</td>\n",
              "      <td>0</td>\n",
              "      <td>0.402021</td>\n",
              "      <td>61</td>\n",
              "      <td>46</td>\n",
              "      <td>9</td>\n",
              "      <td>...</td>\n",
              "      <td>14</td>\n",
              "      <td>0.21</td>\n",
              "      <td>0.499992</td>\n",
              "      <td>0.374995</td>\n",
              "      <td>0.0</td>\n",
              "      <td>0.0</td>\n",
              "      <td>0.428565</td>\n",
              "      <td>0.333330</td>\n",
              "      <td>0.0</td>\n",
              "      <td>0.0</td>\n",
              "    </tr>\n",
              "    <tr>\n",
              "      <th>162442</th>\n",
              "      <td>162442</td>\n",
              "      <td>321149</td>\n",
              "      <td>321150</td>\n",
              "      <td>conceptual analysis</td>\n",
              "      <td>conceptual model</td>\n",
              "      <td>0</td>\n",
              "      <td>0.500025</td>\n",
              "      <td>19</td>\n",
              "      <td>16</td>\n",
              "      <td>2</td>\n",
              "      <td>...</td>\n",
              "      <td>4</td>\n",
              "      <td>0.25</td>\n",
              "      <td>0.499975</td>\n",
              "      <td>0.499975</td>\n",
              "      <td>0.0</td>\n",
              "      <td>0.0</td>\n",
              "      <td>0.499975</td>\n",
              "      <td>0.499975</td>\n",
              "      <td>0.0</td>\n",
              "      <td>1.0</td>\n",
              "    </tr>\n",
              "    <tr>\n",
              "      <th>261498</th>\n",
              "      <td>261498</td>\n",
              "      <td>514570</td>\n",
              "      <td>514571</td>\n",
              "      <td>eye lord ring</td>\n",
              "      <td>powerful lord ring</td>\n",
              "      <td>0</td>\n",
              "      <td>0.666678</td>\n",
              "      <td>13</td>\n",
              "      <td>18</td>\n",
              "      <td>3</td>\n",
              "      <td>...</td>\n",
              "      <td>6</td>\n",
              "      <td>0.33</td>\n",
              "      <td>0.666644</td>\n",
              "      <td>0.666644</td>\n",
              "      <td>0.0</td>\n",
              "      <td>0.0</td>\n",
              "      <td>0.666644</td>\n",
              "      <td>0.666644</td>\n",
              "      <td>1.0</td>\n",
              "      <td>0.0</td>\n",
              "    </tr>\n",
              "    <tr>\n",
              "      <th>70085</th>\n",
              "      <td>70085</td>\n",
              "      <td>139301</td>\n",
              "      <td>139302</td>\n",
              "      <td>management art science</td>\n",
              "      <td>management science art</td>\n",
              "      <td>1</td>\n",
              "      <td>1.000000</td>\n",
              "      <td>22</td>\n",
              "      <td>22</td>\n",
              "      <td>3</td>\n",
              "      <td>...</td>\n",
              "      <td>6</td>\n",
              "      <td>0.50</td>\n",
              "      <td>0.999967</td>\n",
              "      <td>0.999967</td>\n",
              "      <td>0.0</td>\n",
              "      <td>0.0</td>\n",
              "      <td>0.999967</td>\n",
              "      <td>0.999967</td>\n",
              "      <td>0.0</td>\n",
              "      <td>1.0</td>\n",
              "    </tr>\n",
              "  </tbody>\n",
              "</table>\n",
              "<p>5 rows × 22 columns</p>\n",
              "</div>\n",
              "      <button class=\"colab-df-convert\" onclick=\"convertToInteractive('df-818a3d06-a6cb-459d-aae4-0241c356481a')\"\n",
              "              title=\"Convert this dataframe to an interactive table.\"\n",
              "              style=\"display:none;\">\n",
              "        \n",
              "  <svg xmlns=\"http://www.w3.org/2000/svg\" height=\"24px\"viewBox=\"0 0 24 24\"\n",
              "       width=\"24px\">\n",
              "    <path d=\"M0 0h24v24H0V0z\" fill=\"none\"/>\n",
              "    <path d=\"M18.56 5.44l.94 2.06.94-2.06 2.06-.94-2.06-.94-.94-2.06-.94 2.06-2.06.94zm-11 1L8.5 8.5l.94-2.06 2.06-.94-2.06-.94L8.5 2.5l-.94 2.06-2.06.94zm10 10l.94 2.06.94-2.06 2.06-.94-2.06-.94-.94-2.06-.94 2.06-2.06.94z\"/><path d=\"M17.41 7.96l-1.37-1.37c-.4-.4-.92-.59-1.43-.59-.52 0-1.04.2-1.43.59L10.3 9.45l-7.72 7.72c-.78.78-.78 2.05 0 2.83L4 21.41c.39.39.9.59 1.41.59.51 0 1.02-.2 1.41-.59l7.78-7.78 2.81-2.81c.8-.78.8-2.07 0-2.86zM5.41 20L4 18.59l7.72-7.72 1.47 1.35L5.41 20z\"/>\n",
              "  </svg>\n",
              "      </button>\n",
              "      \n",
              "  <style>\n",
              "    .colab-df-container {\n",
              "      display:flex;\n",
              "      flex-wrap:wrap;\n",
              "      gap: 12px;\n",
              "    }\n",
              "\n",
              "    .colab-df-convert {\n",
              "      background-color: #E8F0FE;\n",
              "      border: none;\n",
              "      border-radius: 50%;\n",
              "      cursor: pointer;\n",
              "      display: none;\n",
              "      fill: #1967D2;\n",
              "      height: 32px;\n",
              "      padding: 0 0 0 0;\n",
              "      width: 32px;\n",
              "    }\n",
              "\n",
              "    .colab-df-convert:hover {\n",
              "      background-color: #E2EBFA;\n",
              "      box-shadow: 0px 1px 2px rgba(60, 64, 67, 0.3), 0px 1px 3px 1px rgba(60, 64, 67, 0.15);\n",
              "      fill: #174EA6;\n",
              "    }\n",
              "\n",
              "    [theme=dark] .colab-df-convert {\n",
              "      background-color: #3B4455;\n",
              "      fill: #D2E3FC;\n",
              "    }\n",
              "\n",
              "    [theme=dark] .colab-df-convert:hover {\n",
              "      background-color: #434B5C;\n",
              "      box-shadow: 0px 1px 3px 1px rgba(0, 0, 0, 0.15);\n",
              "      filter: drop-shadow(0px 1px 2px rgba(0, 0, 0, 0.3));\n",
              "      fill: #FFFFFF;\n",
              "    }\n",
              "  </style>\n",
              "\n",
              "      <script>\n",
              "        const buttonEl =\n",
              "          document.querySelector('#df-818a3d06-a6cb-459d-aae4-0241c356481a button.colab-df-convert');\n",
              "        buttonEl.style.display =\n",
              "          google.colab.kernel.accessAllowed ? 'block' : 'none';\n",
              "\n",
              "        async function convertToInteractive(key) {\n",
              "          const element = document.querySelector('#df-818a3d06-a6cb-459d-aae4-0241c356481a');\n",
              "          const dataTable =\n",
              "            await google.colab.kernel.invokeFunction('convertToInteractive',\n",
              "                                                     [key], {});\n",
              "          if (!dataTable) return;\n",
              "\n",
              "          const docLinkHtml = 'Like what you see? Visit the ' +\n",
              "            '<a target=\"_blank\" href=https://colab.research.google.com/notebooks/data_table.ipynb>data table notebook</a>'\n",
              "            + ' to learn more about interactive tables.';\n",
              "          element.innerHTML = '';\n",
              "          dataTable['output_type'] = 'display_data';\n",
              "          await google.colab.output.renderOutput(dataTable, element);\n",
              "          const docLink = document.createElement('div');\n",
              "          docLink.innerHTML = docLinkHtml;\n",
              "          element.appendChild(docLink);\n",
              "        }\n",
              "      </script>\n",
              "    </div>\n",
              "  </div>\n",
              "  "
            ]
          },
          "metadata": {},
          "execution_count": 22
        }
      ],
      "source": [
        "df.head()"
      ]
    },
    {
      "cell_type": "markdown",
      "metadata": {
        "id": "RErJbzoD6UYT"
      },
      "source": [
        "## Length Features\n",
        "1. mean_len: Mean of the length of the two questions (number of words)\n",
        "2. abs_len_diff: Absolute difference between the length of the two questions (number of words)\n",
        "3. longest_substr_ratio: Ratio of the length of the longest substring among the two questions to the length of the smaller question"
      ]
    },
    {
      "cell_type": "code",
      "execution_count": null,
      "metadata": {
        "id": "DeUvyuBY5uzv"
      },
      "outputs": [],
      "source": [
        "def fetch_length_features(row):\n",
        "    \n",
        "    q1 = row['question1']\n",
        "    q2 = row['question2']\n",
        "    \n",
        "    length_features = [0.0]*3\n",
        "    \n",
        "    # Converting the Sentence into Tokens: \n",
        "    q1_tokens = q1.split()\n",
        "    q2_tokens = q2.split()\n",
        "    \n",
        "    if len(q1_tokens) == 0 or len(q2_tokens) == 0:\n",
        "        return length_features\n",
        "\n",
        "    # Absolute length features\n",
        "    length_features[0] = abs(len(q1_tokens) - len(q2_tokens))\n",
        "    \n",
        "    #Average Token Length of both Questions\n",
        "    length_features[1] = (len(q1_tokens) + len(q2_tokens))/2\n",
        "    \n",
        "    strs = list(distance.lcsubstrings(q1, q2))\n",
        "    if len(strs) > 0:\n",
        "        length_features[2] = len(strs[0]) / (min(len(q1), len(q2)) + 1)\n",
        "    \n",
        "    return length_features"
      ]
    },
    {
      "cell_type": "code",
      "execution_count": null,
      "metadata": {
        "id": "Hb5OAr1f6kBS"
      },
      "outputs": [],
      "source": [
        "length_features = df.apply(fetch_length_features, axis=1)\n",
        "\n",
        "df['abs_len_diff'] = list(map(lambda x: x[0], length_features))\n",
        "df['mean_len'] = list(map(lambda x: x[1], length_features))\n",
        "df['longest_substr_ratio'] = list(map(lambda x: x[2], length_features))"
      ]
    },
    {
      "cell_type": "markdown",
      "metadata": {
        "id": "qU8WEas17BE9"
      },
      "source": [
        "## Fuzzy Features\n",
        "1. fuzz_ratio: fuzz_ratio score from fuzzywuzzy\n",
        "2. fuzz_partial_ratio: fuzz_partial_ratio from fuzzywuzzy\n",
        "3. token_sort_ratio: token_sort_ratio from fuzzywuzzy\n",
        "4. token_set_ratio: token_set_ratio from fuzzywuzzy"
      ]
    },
    {
      "cell_type": "code",
      "execution_count": null,
      "metadata": {
        "id": "hV-ndjw07N2P"
      },
      "outputs": [],
      "source": [
        "def fetch_fuzzy_features(row):\n",
        "    \n",
        "    q1 = row['question1']\n",
        "    q2 = row['question2']\n",
        "    \n",
        "    fuzzy_features = [0.0]*4\n",
        "    \n",
        "    # fuzz_ratio\n",
        "    fuzzy_features[0] = fuzz.QRatio(q1, q2)\n",
        "\n",
        "    # fuzz_partial_ratio\n",
        "    fuzzy_features[1] = fuzz.partial_ratio(q1, q2)\n",
        "\n",
        "    # token_sort_ratio\n",
        "    fuzzy_features[2] = fuzz.token_sort_ratio(q1, q2)\n",
        "\n",
        "    # token_set_ratio\n",
        "    fuzzy_features[3] = fuzz.token_set_ratio(q1, q2)\n",
        "\n",
        "    return fuzzy_features"
      ]
    },
    {
      "cell_type": "code",
      "execution_count": null,
      "metadata": {
        "id": "hp7BSxku7N45",
        "colab": {
          "base_uri": "https://localhost:8080/"
        },
        "outputId": "2c3f8d0e-e04c-4e6a-848f-1282a0d85b65"
      },
      "outputs": [
        {
          "output_type": "stream",
          "name": "stderr",
          "text": [
            "298550it [09:23, 529.36it/s]\n"
          ]
        }
      ],
      "source": [
        "fuzzy_features = []\n",
        "for i, row in tqdm(df.iterrows()):\n",
        "    fuzzy_features.append(fetch_fuzzy_features(row))\n",
        "\n",
        "# Creating new feature columns for fuzzy features\n",
        "df['fuzz_ratio'] = list(map(lambda x: x[0], fuzzy_features))\n",
        "df['fuzz_partial_ratio'] = list(map(lambda x: x[1], fuzzy_features))\n",
        "df['token_sort_ratio'] = list(map(lambda x: x[2], fuzzy_features))\n",
        "df['token_set_ratio'] = list(map(lambda x: x[3], fuzzy_features))"
      ]
    },
    {
      "cell_type": "code",
      "execution_count": null,
      "metadata": {
        "id": "-45koeR97N7L",
        "colab": {
          "base_uri": "https://localhost:8080/",
          "height": 473
        },
        "outputId": "868380f2-2ad9-4365-9240-8e3d70c3ba92"
      },
      "outputs": [
        {
          "output_type": "execute_result",
          "data": {
            "text/plain": [
              "            id    qid1    qid2  \\\n",
              "81424    81424  161740  161741   \n",
              "350428  350428  686512  686513   \n",
              "162442  162442  321149  321150   \n",
              "261498  261498  514570  514571   \n",
              "70085    70085  139301  139302   \n",
              "\n",
              "                                                question1  \\\n",
              "81424                 cant india get medal every olympics   \n",
              "350428  car accident common among high school student ...   \n",
              "162442                                conceptual analysis   \n",
              "261498                                      eye lord ring   \n",
              "70085                              management art science   \n",
              "\n",
              "                                             question2  is_duplicate  \\\n",
              "81424                     indian get le medal olympics             1   \n",
              "350428  carriage accident le common car accident today             0   \n",
              "162442                                conceptual model             0   \n",
              "261498                              powerful lord ring             0   \n",
              "70085                           management science art             1   \n",
              "\n",
              "         cos_sim  q1_len  q2_len  q1_num_words  ...   ctc_max  last_word_eq  \\\n",
              "81424   0.547731      35      28             6  ...  0.499992           1.0   \n",
              "350428  0.402021      61      46             9  ...  0.333330           0.0   \n",
              "162442  0.500025      19      16             2  ...  0.499975           0.0   \n",
              "261498  0.666678      13      18             3  ...  0.666644           1.0   \n",
              "70085   1.000000      22      22             3  ...  0.999967           0.0   \n",
              "\n",
              "        first_word_eq  abs_len_diff  mean_len  longest_substr_ratio  \\\n",
              "81424             0.0           1.0       5.5              0.310345   \n",
              "350428            0.0           2.0       8.0              0.276596   \n",
              "162442            1.0           0.0       2.0              0.647059   \n",
              "261498            0.0           0.0       3.0              0.714286   \n",
              "70085             1.0           0.0       3.0              0.478261   \n",
              "\n",
              "        fuzz_ratio  fuzz_partial_ratio  token_sort_ratio  token_set_ratio  \n",
              "81424           76                  79                76               78  \n",
              "350428          28                  50                56               68  \n",
              "162442          69                  75                57               77  \n",
              "261498          71                  77                58               82  \n",
              "70085           82                  82               100              100  \n",
              "\n",
              "[5 rows x 29 columns]"
            ],
            "text/html": [
              "\n",
              "  <div id=\"df-1175e27b-f9a2-4891-8bac-9a4f01fb9eb1\">\n",
              "    <div class=\"colab-df-container\">\n",
              "      <div>\n",
              "<style scoped>\n",
              "    .dataframe tbody tr th:only-of-type {\n",
              "        vertical-align: middle;\n",
              "    }\n",
              "\n",
              "    .dataframe tbody tr th {\n",
              "        vertical-align: top;\n",
              "    }\n",
              "\n",
              "    .dataframe thead th {\n",
              "        text-align: right;\n",
              "    }\n",
              "</style>\n",
              "<table border=\"1\" class=\"dataframe\">\n",
              "  <thead>\n",
              "    <tr style=\"text-align: right;\">\n",
              "      <th></th>\n",
              "      <th>id</th>\n",
              "      <th>qid1</th>\n",
              "      <th>qid2</th>\n",
              "      <th>question1</th>\n",
              "      <th>question2</th>\n",
              "      <th>is_duplicate</th>\n",
              "      <th>cos_sim</th>\n",
              "      <th>q1_len</th>\n",
              "      <th>q2_len</th>\n",
              "      <th>q1_num_words</th>\n",
              "      <th>...</th>\n",
              "      <th>ctc_max</th>\n",
              "      <th>last_word_eq</th>\n",
              "      <th>first_word_eq</th>\n",
              "      <th>abs_len_diff</th>\n",
              "      <th>mean_len</th>\n",
              "      <th>longest_substr_ratio</th>\n",
              "      <th>fuzz_ratio</th>\n",
              "      <th>fuzz_partial_ratio</th>\n",
              "      <th>token_sort_ratio</th>\n",
              "      <th>token_set_ratio</th>\n",
              "    </tr>\n",
              "  </thead>\n",
              "  <tbody>\n",
              "    <tr>\n",
              "      <th>81424</th>\n",
              "      <td>81424</td>\n",
              "      <td>161740</td>\n",
              "      <td>161741</td>\n",
              "      <td>cant india get medal every olympics</td>\n",
              "      <td>indian get le medal olympics</td>\n",
              "      <td>1</td>\n",
              "      <td>0.547731</td>\n",
              "      <td>35</td>\n",
              "      <td>28</td>\n",
              "      <td>6</td>\n",
              "      <td>...</td>\n",
              "      <td>0.499992</td>\n",
              "      <td>1.0</td>\n",
              "      <td>0.0</td>\n",
              "      <td>1.0</td>\n",
              "      <td>5.5</td>\n",
              "      <td>0.310345</td>\n",
              "      <td>76</td>\n",
              "      <td>79</td>\n",
              "      <td>76</td>\n",
              "      <td>78</td>\n",
              "    </tr>\n",
              "    <tr>\n",
              "      <th>350428</th>\n",
              "      <td>350428</td>\n",
              "      <td>686512</td>\n",
              "      <td>686513</td>\n",
              "      <td>car accident common among high school student ...</td>\n",
              "      <td>carriage accident le common car accident today</td>\n",
              "      <td>0</td>\n",
              "      <td>0.402021</td>\n",
              "      <td>61</td>\n",
              "      <td>46</td>\n",
              "      <td>9</td>\n",
              "      <td>...</td>\n",
              "      <td>0.333330</td>\n",
              "      <td>0.0</td>\n",
              "      <td>0.0</td>\n",
              "      <td>2.0</td>\n",
              "      <td>8.0</td>\n",
              "      <td>0.276596</td>\n",
              "      <td>28</td>\n",
              "      <td>50</td>\n",
              "      <td>56</td>\n",
              "      <td>68</td>\n",
              "    </tr>\n",
              "    <tr>\n",
              "      <th>162442</th>\n",
              "      <td>162442</td>\n",
              "      <td>321149</td>\n",
              "      <td>321150</td>\n",
              "      <td>conceptual analysis</td>\n",
              "      <td>conceptual model</td>\n",
              "      <td>0</td>\n",
              "      <td>0.500025</td>\n",
              "      <td>19</td>\n",
              "      <td>16</td>\n",
              "      <td>2</td>\n",
              "      <td>...</td>\n",
              "      <td>0.499975</td>\n",
              "      <td>0.0</td>\n",
              "      <td>1.0</td>\n",
              "      <td>0.0</td>\n",
              "      <td>2.0</td>\n",
              "      <td>0.647059</td>\n",
              "      <td>69</td>\n",
              "      <td>75</td>\n",
              "      <td>57</td>\n",
              "      <td>77</td>\n",
              "    </tr>\n",
              "    <tr>\n",
              "      <th>261498</th>\n",
              "      <td>261498</td>\n",
              "      <td>514570</td>\n",
              "      <td>514571</td>\n",
              "      <td>eye lord ring</td>\n",
              "      <td>powerful lord ring</td>\n",
              "      <td>0</td>\n",
              "      <td>0.666678</td>\n",
              "      <td>13</td>\n",
              "      <td>18</td>\n",
              "      <td>3</td>\n",
              "      <td>...</td>\n",
              "      <td>0.666644</td>\n",
              "      <td>1.0</td>\n",
              "      <td>0.0</td>\n",
              "      <td>0.0</td>\n",
              "      <td>3.0</td>\n",
              "      <td>0.714286</td>\n",
              "      <td>71</td>\n",
              "      <td>77</td>\n",
              "      <td>58</td>\n",
              "      <td>82</td>\n",
              "    </tr>\n",
              "    <tr>\n",
              "      <th>70085</th>\n",
              "      <td>70085</td>\n",
              "      <td>139301</td>\n",
              "      <td>139302</td>\n",
              "      <td>management art science</td>\n",
              "      <td>management science art</td>\n",
              "      <td>1</td>\n",
              "      <td>1.000000</td>\n",
              "      <td>22</td>\n",
              "      <td>22</td>\n",
              "      <td>3</td>\n",
              "      <td>...</td>\n",
              "      <td>0.999967</td>\n",
              "      <td>0.0</td>\n",
              "      <td>1.0</td>\n",
              "      <td>0.0</td>\n",
              "      <td>3.0</td>\n",
              "      <td>0.478261</td>\n",
              "      <td>82</td>\n",
              "      <td>82</td>\n",
              "      <td>100</td>\n",
              "      <td>100</td>\n",
              "    </tr>\n",
              "  </tbody>\n",
              "</table>\n",
              "<p>5 rows × 29 columns</p>\n",
              "</div>\n",
              "      <button class=\"colab-df-convert\" onclick=\"convertToInteractive('df-1175e27b-f9a2-4891-8bac-9a4f01fb9eb1')\"\n",
              "              title=\"Convert this dataframe to an interactive table.\"\n",
              "              style=\"display:none;\">\n",
              "        \n",
              "  <svg xmlns=\"http://www.w3.org/2000/svg\" height=\"24px\"viewBox=\"0 0 24 24\"\n",
              "       width=\"24px\">\n",
              "    <path d=\"M0 0h24v24H0V0z\" fill=\"none\"/>\n",
              "    <path d=\"M18.56 5.44l.94 2.06.94-2.06 2.06-.94-2.06-.94-.94-2.06-.94 2.06-2.06.94zm-11 1L8.5 8.5l.94-2.06 2.06-.94-2.06-.94L8.5 2.5l-.94 2.06-2.06.94zm10 10l.94 2.06.94-2.06 2.06-.94-2.06-.94-.94-2.06-.94 2.06-2.06.94z\"/><path d=\"M17.41 7.96l-1.37-1.37c-.4-.4-.92-.59-1.43-.59-.52 0-1.04.2-1.43.59L10.3 9.45l-7.72 7.72c-.78.78-.78 2.05 0 2.83L4 21.41c.39.39.9.59 1.41.59.51 0 1.02-.2 1.41-.59l7.78-7.78 2.81-2.81c.8-.78.8-2.07 0-2.86zM5.41 20L4 18.59l7.72-7.72 1.47 1.35L5.41 20z\"/>\n",
              "  </svg>\n",
              "      </button>\n",
              "      \n",
              "  <style>\n",
              "    .colab-df-container {\n",
              "      display:flex;\n",
              "      flex-wrap:wrap;\n",
              "      gap: 12px;\n",
              "    }\n",
              "\n",
              "    .colab-df-convert {\n",
              "      background-color: #E8F0FE;\n",
              "      border: none;\n",
              "      border-radius: 50%;\n",
              "      cursor: pointer;\n",
              "      display: none;\n",
              "      fill: #1967D2;\n",
              "      height: 32px;\n",
              "      padding: 0 0 0 0;\n",
              "      width: 32px;\n",
              "    }\n",
              "\n",
              "    .colab-df-convert:hover {\n",
              "      background-color: #E2EBFA;\n",
              "      box-shadow: 0px 1px 2px rgba(60, 64, 67, 0.3), 0px 1px 3px 1px rgba(60, 64, 67, 0.15);\n",
              "      fill: #174EA6;\n",
              "    }\n",
              "\n",
              "    [theme=dark] .colab-df-convert {\n",
              "      background-color: #3B4455;\n",
              "      fill: #D2E3FC;\n",
              "    }\n",
              "\n",
              "    [theme=dark] .colab-df-convert:hover {\n",
              "      background-color: #434B5C;\n",
              "      box-shadow: 0px 1px 3px 1px rgba(0, 0, 0, 0.15);\n",
              "      filter: drop-shadow(0px 1px 2px rgba(0, 0, 0, 0.3));\n",
              "      fill: #FFFFFF;\n",
              "    }\n",
              "  </style>\n",
              "\n",
              "      <script>\n",
              "        const buttonEl =\n",
              "          document.querySelector('#df-1175e27b-f9a2-4891-8bac-9a4f01fb9eb1 button.colab-df-convert');\n",
              "        buttonEl.style.display =\n",
              "          google.colab.kernel.accessAllowed ? 'block' : 'none';\n",
              "\n",
              "        async function convertToInteractive(key) {\n",
              "          const element = document.querySelector('#df-1175e27b-f9a2-4891-8bac-9a4f01fb9eb1');\n",
              "          const dataTable =\n",
              "            await google.colab.kernel.invokeFunction('convertToInteractive',\n",
              "                                                     [key], {});\n",
              "          if (!dataTable) return;\n",
              "\n",
              "          const docLinkHtml = 'Like what you see? Visit the ' +\n",
              "            '<a target=\"_blank\" href=https://colab.research.google.com/notebooks/data_table.ipynb>data table notebook</a>'\n",
              "            + ' to learn more about interactive tables.';\n",
              "          element.innerHTML = '';\n",
              "          dataTable['output_type'] = 'display_data';\n",
              "          await google.colab.output.renderOutput(dataTable, element);\n",
              "          const docLink = document.createElement('div');\n",
              "          docLink.innerHTML = docLinkHtml;\n",
              "          element.appendChild(docLink);\n",
              "        }\n",
              "      </script>\n",
              "    </div>\n",
              "  </div>\n",
              "  "
            ]
          },
          "metadata": {},
          "execution_count": 36
        }
      ],
      "source": [
        "df.head()"
      ]
    },
    {
      "cell_type": "markdown",
      "source": [
        "# **Visualizing**"
      ],
      "metadata": {
        "id": "zmCOv-wF1KXk"
      }
    },
    {
      "cell_type": "code",
      "source": [
        "cols = list(df.columns)[6:]\n",
        "cols"
      ],
      "metadata": {
        "colab": {
          "base_uri": "https://localhost:8080/"
        },
        "id": "AZB-kNjF1NUy",
        "outputId": "23986cbf-fd27-4ea5-ba6e-282e5038f0c0"
      },
      "execution_count": null,
      "outputs": [
        {
          "output_type": "execute_result",
          "data": {
            "text/plain": [
              "['cos_sim',\n",
              " 'q1_len',\n",
              " 'q2_len',\n",
              " 'q1_num_words',\n",
              " 'q2_num_words',\n",
              " 'word_common',\n",
              " 'word_total',\n",
              " 'word_share',\n",
              " 'cwc_min',\n",
              " 'cwc_max',\n",
              " 'csc_min',\n",
              " 'csc_max',\n",
              " 'ctc_min',\n",
              " 'ctc_max',\n",
              " 'last_word_eq',\n",
              " 'first_word_eq',\n",
              " 'abs_len_diff',\n",
              " 'mean_len',\n",
              " 'longest_substr_ratio',\n",
              " 'fuzz_ratio',\n",
              " 'fuzz_partial_ratio',\n",
              " 'token_sort_ratio',\n",
              " 'token_set_ratio']"
            ]
          },
          "metadata": {},
          "execution_count": 38
        }
      ]
    },
    {
      "cell_type": "code",
      "source": [
        "import warnings\n",
        "warnings.filterwarnings(\"ignore\")"
      ],
      "metadata": {
        "id": "yTw7dNkX-Sy4"
      },
      "execution_count": null,
      "outputs": []
    },
    {
      "cell_type": "code",
      "source": [
        "n_cols = 4\n",
        "\n",
        "n_rows = int(np.ceil(len(cols)/n_cols))\n",
        "n_rows = max(n_rows, 2)\n",
        "fig_size = 5\n",
        "\n",
        "fig, axes = plt.subplots(\n",
        "    n_rows,    # no of rows\n",
        "    n_cols,    # no of cols\n",
        "    figsize = (fig_size*n_cols, fig_size*n_rows),\n",
        ")\n",
        "\n",
        "for i, col in enumerate(cols):\n",
        "    ax = axes[i//n_cols, i%n_cols]\n",
        "\n",
        "    ax.set_title(cols[i])\n",
        "    sns.distplot(df[df['is_duplicate'] == 0][col], label='non duplicate', ax=ax)\n",
        "    sns.distplot(df[df['is_duplicate'] == 1][col], label='duplicate', ax=ax)\n",
        "\n",
        "plt.legend()\n",
        "plt.show()"
      ],
      "metadata": {
        "colab": {
          "base_uri": "https://localhost:8080/",
          "height": 1000
        },
        "id": "qEsF1nO71Ndt",
        "outputId": "85b39a70-0683-4e15-88b5-0d4bca6deebd"
      },
      "execution_count": null,
      "outputs": [
        {
          "output_type": "stream",
          "name": "stderr",
          "text": [
            "WARNING:matplotlib.legend:No artists with labels found to put in legend.  Note that artists whose label start with an underscore are ignored when legend() is called with no argument.\n"
          ]
        },
        {
          "output_type": "display_data",
          "data": {
            "text/plain": [
              "<Figure size 1440x2160 with 24 Axes>"
            ],
            "image/png": "[encoded data removed]"
          },
          "metadata": {
            "needs_background": "light"
          }
        }
      ]
    },
    {
      "cell_type": "markdown",
      "metadata": {
        "id": "SKN9Zzlr-15E"
      },
      "source": [
        "# **Saving Preprocessed Data**"
      ]
    },
    {
      "cell_type": "code",
      "source": [
        "df.index = range(len(df))\n",
        "df.head()"
      ],
      "metadata": {
        "colab": {
          "base_uri": "https://localhost:8080/",
          "height": 473
        },
        "id": "TRlWOKNH8vQg",
        "outputId": "36721fdf-a605-4591-e3e1-19c40d9d379f"
      },
      "execution_count": null,
      "outputs": [
        {
          "output_type": "execute_result",
          "data": {
            "text/plain": [
              "       id    qid1    qid2                                          question1  \\\n",
              "0   81424  161740  161741                cant india get medal every olympics   \n",
              "1  350428  686512  686513  car accident common among high school student ...   \n",
              "2  162442  321149  321150                                conceptual analysis   \n",
              "3  261498  514570  514571                                      eye lord ring   \n",
              "4   70085  139301  139302                             management art science   \n",
              "\n",
              "                                        question2  is_duplicate   cos_sim  \\\n",
              "0                    indian get le medal olympics             1  0.547731   \n",
              "1  carriage accident le common car accident today             0  0.402021   \n",
              "2                                conceptual model             0  0.500025   \n",
              "3                              powerful lord ring             0  0.666678   \n",
              "4                          management science art             1  1.000000   \n",
              "\n",
              "   q1_len  q2_len  q1_num_words  ...   ctc_max  last_word_eq  first_word_eq  \\\n",
              "0      35      28             6  ...  0.499992           1.0            0.0   \n",
              "1      61      46             9  ...  0.333330           0.0            0.0   \n",
              "2      19      16             2  ...  0.499975           0.0            1.0   \n",
              "3      13      18             3  ...  0.666644           1.0            0.0   \n",
              "4      22      22             3  ...  0.999967           0.0            1.0   \n",
              "\n",
              "   abs_len_diff  mean_len  longest_substr_ratio  fuzz_ratio  \\\n",
              "0           1.0       5.5              0.310345          76   \n",
              "1           2.0       8.0              0.276596          28   \n",
              "2           0.0       2.0              0.647059          69   \n",
              "3           0.0       3.0              0.714286          71   \n",
              "4           0.0       3.0              0.478261          82   \n",
              "\n",
              "   fuzz_partial_ratio  token_sort_ratio  token_set_ratio  \n",
              "0                  79                76               78  \n",
              "1                  50                56               68  \n",
              "2                  75                57               77  \n",
              "3                  77                58               82  \n",
              "4                  82               100              100  \n",
              "\n",
              "[5 rows x 29 columns]"
            ],
            "text/html": [
              "\n",
              "  <div id=\"df-c06a9841-a024-4a7c-8943-e167cf1457c9\">\n",
              "    <div class=\"colab-df-container\">\n",
              "      <div>\n",
              "<style scoped>\n",
              "    .dataframe tbody tr th:only-of-type {\n",
              "        vertical-align: middle;\n",
              "    }\n",
              "\n",
              "    .dataframe tbody tr th {\n",
              "        vertical-align: top;\n",
              "    }\n",
              "\n",
              "    .dataframe thead th {\n",
              "        text-align: right;\n",
              "    }\n",
              "</style>\n",
              "<table border=\"1\" class=\"dataframe\">\n",
              "  <thead>\n",
              "    <tr style=\"text-align: right;\">\n",
              "      <th></th>\n",
              "      <th>id</th>\n",
              "      <th>qid1</th>\n",
              "      <th>qid2</th>\n",
              "      <th>question1</th>\n",
              "      <th>question2</th>\n",
              "      <th>is_duplicate</th>\n",
              "      <th>cos_sim</th>\n",
              "      <th>q1_len</th>\n",
              "      <th>q2_len</th>\n",
              "      <th>q1_num_words</th>\n",
              "      <th>...</th>\n",
              "      <th>ctc_max</th>\n",
              "      <th>last_word_eq</th>\n",
              "      <th>first_word_eq</th>\n",
              "      <th>abs_len_diff</th>\n",
              "      <th>mean_len</th>\n",
              "      <th>longest_substr_ratio</th>\n",
              "      <th>fuzz_ratio</th>\n",
              "      <th>fuzz_partial_ratio</th>\n",
              "      <th>token_sort_ratio</th>\n",
              "      <th>token_set_ratio</th>\n",
              "    </tr>\n",
              "  </thead>\n",
              "  <tbody>\n",
              "    <tr>\n",
              "      <th>0</th>\n",
              "      <td>81424</td>\n",
              "      <td>161740</td>\n",
              "      <td>161741</td>\n",
              "      <td>cant india get medal every olympics</td>\n",
              "      <td>indian get le medal olympics</td>\n",
              "      <td>1</td>\n",
              "      <td>0.547731</td>\n",
              "      <td>35</td>\n",
              "      <td>28</td>\n",
              "      <td>6</td>\n",
              "      <td>...</td>\n",
              "      <td>0.499992</td>\n",
              "      <td>1.0</td>\n",
              "      <td>0.0</td>\n",
              "      <td>1.0</td>\n",
              "      <td>5.5</td>\n",
              "      <td>0.310345</td>\n",
              "      <td>76</td>\n",
              "      <td>79</td>\n",
              "      <td>76</td>\n",
              "      <td>78</td>\n",
              "    </tr>\n",
              "    <tr>\n",
              "      <th>1</th>\n",
              "      <td>350428</td>\n",
              "      <td>686512</td>\n",
              "      <td>686513</td>\n",
              "      <td>car accident common among high school student ...</td>\n",
              "      <td>carriage accident le common car accident today</td>\n",
              "      <td>0</td>\n",
              "      <td>0.402021</td>\n",
              "      <td>61</td>\n",
              "      <td>46</td>\n",
              "      <td>9</td>\n",
              "      <td>...</td>\n",
              "      <td>0.333330</td>\n",
              "      <td>0.0</td>\n",
              "      <td>0.0</td>\n",
              "      <td>2.0</td>\n",
              "      <td>8.0</td>\n",
              "      <td>0.276596</td>\n",
              "      <td>28</td>\n",
              "      <td>50</td>\n",
              "      <td>56</td>\n",
              "      <td>68</td>\n",
              "    </tr>\n",
              "    <tr>\n",
              "      <th>2</th>\n",
              "      <td>162442</td>\n",
              "      <td>321149</td>\n",
              "      <td>321150</td>\n",
              "      <td>conceptual analysis</td>\n",
              "      <td>conceptual model</td>\n",
              "      <td>0</td>\n",
              "      <td>0.500025</td>\n",
              "      <td>19</td>\n",
              "      <td>16</td>\n",
              "      <td>2</td>\n",
              "      <td>...</td>\n",
              "      <td>0.499975</td>\n",
              "      <td>0.0</td>\n",
              "      <td>1.0</td>\n",
              "      <td>0.0</td>\n",
              "      <td>2.0</td>\n",
              "      <td>0.647059</td>\n",
              "      <td>69</td>\n",
              "      <td>75</td>\n",
              "      <td>57</td>\n",
              "      <td>77</td>\n",
              "    </tr>\n",
              "    <tr>\n",
              "      <th>3</th>\n",
              "      <td>261498</td>\n",
              "      <td>514570</td>\n",
              "      <td>514571</td>\n",
              "      <td>eye lord ring</td>\n",
              "      <td>powerful lord ring</td>\n",
              "      <td>0</td>\n",
              "      <td>0.666678</td>\n",
              "      <td>13</td>\n",
              "      <td>18</td>\n",
              "      <td>3</td>\n",
              "      <td>...</td>\n",
              "      <td>0.666644</td>\n",
              "      <td>1.0</td>\n",
              "      <td>0.0</td>\n",
              "      <td>0.0</td>\n",
              "      <td>3.0</td>\n",
              "      <td>0.714286</td>\n",
              "      <td>71</td>\n",
              "      <td>77</td>\n",
              "      <td>58</td>\n",
              "      <td>82</td>\n",
              "    </tr>\n",
              "    <tr>\n",
              "      <th>4</th>\n",
              "      <td>70085</td>\n",
              "      <td>139301</td>\n",
              "      <td>139302</td>\n",
              "      <td>management art science</td>\n",
              "      <td>management science art</td>\n",
              "      <td>1</td>\n",
              "      <td>1.000000</td>\n",
              "      <td>22</td>\n",
              "      <td>22</td>\n",
              "      <td>3</td>\n",
              "      <td>...</td>\n",
              "      <td>0.999967</td>\n",
              "      <td>0.0</td>\n",
              "      <td>1.0</td>\n",
              "      <td>0.0</td>\n",
              "      <td>3.0</td>\n",
              "      <td>0.478261</td>\n",
              "      <td>82</td>\n",
              "      <td>82</td>\n",
              "      <td>100</td>\n",
              "      <td>100</td>\n",
              "    </tr>\n",
              "  </tbody>\n",
              "</table>\n",
              "<p>5 rows × 29 columns</p>\n",
              "</div>\n",
              "      <button class=\"colab-df-convert\" onclick=\"convertToInteractive('df-c06a9841-a024-4a7c-8943-e167cf1457c9')\"\n",
              "              title=\"Convert this dataframe to an interactive table.\"\n",
              "              style=\"display:none;\">\n",
              "        \n",
              "  <svg xmlns=\"http://www.w3.org/2000/svg\" height=\"24px\"viewBox=\"0 0 24 24\"\n",
              "       width=\"24px\">\n",
              "    <path d=\"M0 0h24v24H0V0z\" fill=\"none\"/>\n",
              "    <path d=\"M18.56 5.44l.94 2.06.94-2.06 2.06-.94-2.06-.94-.94-2.06-.94 2.06-2.06.94zm-11 1L8.5 8.5l.94-2.06 2.06-.94-2.06-.94L8.5 2.5l-.94 2.06-2.06.94zm10 10l.94 2.06.94-2.06 2.06-.94-2.06-.94-.94-2.06-.94 2.06-2.06.94z\"/><path d=\"M17.41 7.96l-1.37-1.37c-.4-.4-.92-.59-1.43-.59-.52 0-1.04.2-1.43.59L10.3 9.45l-7.72 7.72c-.78.78-.78 2.05 0 2.83L4 21.41c.39.39.9.59 1.41.59.51 0 1.02-.2 1.41-.59l7.78-7.78 2.81-2.81c.8-.78.8-2.07 0-2.86zM5.41 20L4 18.59l7.72-7.72 1.47 1.35L5.41 20z\"/>\n",
              "  </svg>\n",
              "      </button>\n",
              "      \n",
              "  <style>\n",
              "    .colab-df-container {\n",
              "      display:flex;\n",
              "      flex-wrap:wrap;\n",
              "      gap: 12px;\n",
              "    }\n",
              "\n",
              "    .colab-df-convert {\n",
              "      background-color: #E8F0FE;\n",
              "      border: none;\n",
              "      border-radius: 50%;\n",
              "      cursor: pointer;\n",
              "      display: none;\n",
              "      fill: #1967D2;\n",
              "      height: 32px;\n",
              "      padding: 0 0 0 0;\n",
              "      width: 32px;\n",
              "    }\n",
              "\n",
              "    .colab-df-convert:hover {\n",
              "      background-color: #E2EBFA;\n",
              "      box-shadow: 0px 1px 2px rgba(60, 64, 67, 0.3), 0px 1px 3px 1px rgba(60, 64, 67, 0.15);\n",
              "      fill: #174EA6;\n",
              "    }\n",
              "\n",
              "    [theme=dark] .colab-df-convert {\n",
              "      background-color: #3B4455;\n",
              "      fill: #D2E3FC;\n",
              "    }\n",
              "\n",
              "    [theme=dark] .colab-df-convert:hover {\n",
              "      background-color: #434B5C;\n",
              "      box-shadow: 0px 1px 3px 1px rgba(0, 0, 0, 0.15);\n",
              "      filter: drop-shadow(0px 1px 2px rgba(0, 0, 0, 0.3));\n",
              "      fill: #FFFFFF;\n",
              "    }\n",
              "  </style>\n",
              "\n",
              "      <script>\n",
              "        const buttonEl =\n",
              "          document.querySelector('#df-c06a9841-a024-4a7c-8943-e167cf1457c9 button.colab-df-convert');\n",
              "        buttonEl.style.display =\n",
              "          google.colab.kernel.accessAllowed ? 'block' : 'none';\n",
              "\n",
              "        async function convertToInteractive(key) {\n",
              "          const element = document.querySelector('#df-c06a9841-a024-4a7c-8943-e167cf1457c9');\n",
              "          const dataTable =\n",
              "            await google.colab.kernel.invokeFunction('convertToInteractive',\n",
              "                                                     [key], {});\n",
              "          if (!dataTable) return;\n",
              "\n",
              "          const docLinkHtml = 'Like what you see? Visit the ' +\n",
              "            '<a target=\"_blank\" href=https://colab.research.google.com/notebooks/data_table.ipynb>data table notebook</a>'\n",
              "            + ' to learn more about interactive tables.';\n",
              "          element.innerHTML = '';\n",
              "          dataTable['output_type'] = 'display_data';\n",
              "          await google.colab.output.renderOutput(dataTable, element);\n",
              "          const docLink = document.createElement('div');\n",
              "          docLink.innerHTML = docLinkHtml;\n",
              "          element.appendChild(docLink);\n",
              "        }\n",
              "      </script>\n",
              "    </div>\n",
              "  </div>\n",
              "  "
            ]
          },
          "metadata": {},
          "execution_count": 43
        }
      ]
    },
    {
      "cell_type": "code",
      "execution_count": null,
      "metadata": {
        "id": "XBZ_Oe9--4-H",
        "colab": {
          "base_uri": "https://localhost:8080/",
          "height": 36
        },
        "outputId": "67e779ad-0847-4e1b-d7c3-1ce067665e3d"
      },
      "outputs": [
        {
          "output_type": "execute_result",
          "data": {
            "text/plain": [
              "'/content/drive/MyDrive/Colab Notebooks/dumps/quora_question_pairs/final_preprocessed_data_allowStopwords0.csv'"
            ],
            "application/vnd.google.colaboratory.intrinsic+json": {
              "type": "string"
            }
          },
          "metadata": {},
          "execution_count": 44
        }
      ],
      "source": [
        "# path = os.path.join(DUMP_PATH, f\"more_preprocessed_data_{SAMPLE_SIZE}.csv\")\n",
        "path = os.path.join(DUMP_PATH, f\"final_preprocessed_data_allowStopwords{int(ALLOW_STOPWORDS)}.csv\")\n",
        "path"
      ]
    },
    {
      "cell_type": "code",
      "execution_count": null,
      "metadata": {
        "id": "IZ86bxUv_YMw"
      },
      "outputs": [],
      "source": [
        "df.to_csv(path, index=False)"
      ]
    }
  ],
  "metadata": {
    "colab": {
      "collapsed_sections": [
        "7m6MhvGa1yq4",
        "J0CT429-gOPH",
        "pc7G2hdt2aQu",
        "No-5gqEr5sNg",
        "n7Awe4Ov62j_",
        "Cie5XGcD7FF6"
      ],
      "provenance": []
    },
    "gpuClass": "standard",
    "kernelspec": {
      "display_name": "Python 3",
      "name": "python3"
    },
    "language_info": {
      "name": "python"
    }
  },
  "nbformat": 4,
  "nbformat_minor": 0
}